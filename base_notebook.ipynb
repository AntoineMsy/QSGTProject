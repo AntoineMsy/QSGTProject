{
 "cells": [
  {
   "cell_type": "code",
   "execution_count": 71,
   "metadata": {},
   "outputs": [],
   "source": [
    "import netket as nk\n",
    "from netket.operator.spin import sigmax,sigmaz, identity, sigmam, sigmap\n",
    "import jax\n",
    "import pickle\n",
    "import matplotlib.pyplot as plt\n",
    "from netket.graph import Graph, Chain\n",
    "from netket.models import MPSPeriodic\n",
    "from netket.operator._local_operator import LocalOperator\n",
    "import numpy as np\n",
    "from utils import *\n",
    "from ffn import MPSFFN\n",
    "from mps_finite import MPSMod"
   ]
  },
  {
   "cell_type": "code",
   "execution_count": 72,
   "metadata": {},
   "outputs": [
    {
     "name": "stdout",
     "output_type": "stream",
     "text": [
      "The autoreload extension is already loaded. To reload it, use:\n",
      "  %reload_ext autoreload\n"
     ]
    }
   ],
   "source": [
    "%load_ext autoreload\n",
    "%autoreload 2"
   ]
  },
  {
   "cell_type": "code",
   "execution_count": 73,
   "metadata": {},
   "outputs": [],
   "source": [
    "N = 10"
   ]
  },
  {
   "cell_type": "code",
   "execution_count": 74,
   "metadata": {},
   "outputs": [],
   "source": [
    "# Copyright 2021 The NetKet Authors - All rights reserved.\n",
    "#\n",
    "# Licensed under the Apache License, Version 2.0 (the \"License\");\n",
    "# you may not use this file except in compliance with the License.\n",
    "# You may obtain a copy of the License at\n",
    "#\n",
    "#    http://www.apache.org/licenses/LICENSE-2.0\n",
    "#\n",
    "# Unless required by applicable law or agreed to in writing, software\n",
    "# distributed under the License is distributed on an \"AS IS\" BASIS,\n",
    "# WITHOUT WARRANTIES OR CONDITIONS OF ANY KIND, either express or implied.\n",
    "# See the License for the specific language governing permissions and\n",
    "# limitations under the License.\n",
    "\n",
    "from typing import Any\n",
    "import warnings\n",
    "\n",
    "import igraph as ig\n",
    "from flax import linen as nn\n",
    "import jax\n",
    "from jax import numpy as jnp\n",
    "import numpy as np\n",
    "from jax.nn.initializers import normal\n",
    "\n",
    "from netket.utils import deprecate_dtype\n",
    "from netket.graph import AbstractGraph, Chain\n",
    "from netket.hilbert import AbstractHilbert\n",
    "from netket.utils.types import NNInitFunc\n",
    "\n",
    "\n",
    "@deprecate_dtype\n",
    "class MPSMod(nn.Module):\n",
    "    r\"\"\"\n",
    "    A periodic Matrix Product State (MPS) for a quantum state of discrete\n",
    "    degrees of freedom, wrapped as Jax machine.\n",
    "\n",
    "    The MPS is defined as\n",
    "\n",
    "    .. math:: \\Psi(s_1,\\dots s_N) = \\mathrm{Tr} \\left[ A[s_1]\\dots A[s_N] \\right] ,\n",
    "\n",
    "    for arbitrary local quantum numbers :math:`s_i`, where :math:`A[s_1]` is a matrix\n",
    "    of dimension (bdim,bdim), depending on the value of the local quantum number :math:`s_i`.\n",
    "    \"\"\"\n",
    "\n",
    "    hilbert: AbstractHilbert\n",
    "    \"\"\"Hilbert space on which the state is defined.\"\"\"\n",
    "    graph: AbstractGraph\n",
    "    \"\"\"The graph on which the system is defined.\"\"\"\n",
    "    bond_dim: int\n",
    "    \"\"\"Virtual dimension of the MPS tensors.\"\"\"\n",
    "    diag: bool = False\n",
    "    \"\"\"Whether or not to use diagonal matrices in the MPS tensors.\"\"\"\n",
    "    symperiod: bool = None\n",
    "    \"\"\"\n",
    "    Periodicity in the chain of MPS tensors.\n",
    "\n",
    "    The chain of MPS tensors is constructed as a sequence of identical\n",
    "    unit cells consisting of symperiod tensors. if None, symperiod equals the\n",
    "    number of physical degrees of freedom.\n",
    "    \"\"\"\n",
    "    \n",
    "    kernel_init: NNInitFunc = normal(\n",
    "        stddev=0.01\n",
    "    )  # default standard deviation equals 1e-2\n",
    "    \"\"\"the initializer for the MPS weights.\"\"\"\n",
    "    param_dtype: Any = np.complex64\n",
    "    \"\"\"complex or float, whether the variational parameters of the MPS are real or complex.\"\"\"\n",
    "\n",
    "    def setup(self):\n",
    "        L = self.hilbert.size\n",
    "        phys_dim = self.hilbert.local_size\n",
    "\n",
    "        self._L = L\n",
    "        self._phys_dim = phys_dim\n",
    "\n",
    "        # determine transformation from local states to indices\n",
    "        local_states = np.array(self.hilbert.local_states)\n",
    "        loc_vals_spacing = np.roll(local_states, -1)[0:-1] - local_states[0:-1]\n",
    "        if np.max(loc_vals_spacing) == np.min(loc_vals_spacing):\n",
    "            self._loc_vals_spacing = jnp.array(loc_vals_spacing[0])\n",
    "        else:\n",
    "            raise AssertionError(\n",
    "                \"JaxMpsPeriodic can only be used with evenly spaced hilbert local values\"\n",
    "            )\n",
    "        self._loc_vals_bias = jnp.min(local_states)\n",
    "\n",
    "        # check whether graph is periodic chain\n",
    "        chain_graph = Chain(self.graph.n_edges).to_igraph()\n",
    "        if not ig.Graph(edges=self.graph.edges()).isomorphic(chain_graph):\n",
    "            warnings.warn(\n",
    "                \"Warning: graph is not isomorphic to chain with periodic boundary conditions\",\n",
    "                UserWarning,\n",
    "            )\n",
    "\n",
    "        # determine shape of unit cell\n",
    "        if self.symperiod is None:\n",
    "            self._symperiod = L\n",
    "        else:\n",
    "            self._symperiod = self.symperiod\n",
    "\n",
    "        if L % self._symperiod == 0 and self._symperiod > 0:\n",
    "            if self.diag:\n",
    "                unit_cell_shape = (self._symperiod, phys_dim, self.bond_dim)\n",
    "            else:\n",
    "                unit_cell_shape = (\n",
    "                    self._symperiod,\n",
    "                    phys_dim,\n",
    "                    self.bond_dim,\n",
    "                    self.bond_dim,\n",
    "                )\n",
    "        else:\n",
    "            raise AssertionError(\n",
    "                \"The number of degrees of freedom of the Hilbert space needs to be a multiple of the period of the MPS\"\n",
    "            )\n",
    "\n",
    "        # define diagonal tensors with correct unit cell shape\n",
    "        if self.diag:\n",
    "            iden_tensors = jnp.ones(\n",
    "                (self._symperiod, phys_dim, self.bond_dim), dtype=self.param_dtype\n",
    "            )\n",
    "        else:\n",
    "            iden_tensors = jnp.repeat(\n",
    "                jnp.eye(self.bond_dim, dtype=self.param_dtype)[jnp.newaxis, :, :],\n",
    "                self._symperiod * phys_dim,\n",
    "                axis=0,\n",
    "            )\n",
    "            iden_tensors = iden_tensors.reshape(\n",
    "                self._symperiod, phys_dim, self.bond_dim, self.bond_dim\n",
    "            )\n",
    "\n",
    "        self.kernel = (\n",
    "            self.param(\"kernel\", self.kernel_init, unit_cell_shape, self.param_dtype)\n",
    "            + iden_tensors\n",
    "        )\n",
    "\n",
    "        ## Gaussian sector part \n",
    "        self.phys_A = jnp.array([[[0,0],[1,0]],[[1,0],[0,0]],[[0,1],[0,0]]])\n",
    "\n",
    "    @nn.compact\n",
    "    def __call__(self, x):\n",
    "        \n",
    "        # expand diagonal to square matrices if diagonal mps\n",
    "        if self.diag:\n",
    "            params = jnp.einsum(\n",
    "                \"ijk,kl->ijkl\", self.kernel, jnp.eye(self.kernel.shape[-1])\n",
    "            )\n",
    "        else:\n",
    "            params = self.kernel\n",
    "        \n",
    "        # create all tensors in mps from unit cell\n",
    "        all_tensors = jnp.tile(params, (self._L // self._symperiod, 1, 1, 1))\n",
    "        all_phystensors = jnp.tile(self.phys_A, (self._L, 1, 1, 1))\n",
    "        # transform input to indices\n",
    "        x = (x - self._loc_vals_bias) / self._loc_vals_spacing\n",
    "        if len(x.shape) == 1:  # batch size is one\n",
    "            x = jnp.expand_dims(x, 0)\n",
    "\n",
    "        def select_tensor(tensor, index):\n",
    "            return tensor[index.astype(int)]\n",
    "\n",
    "        def select_all_tensors(all_tensors, indices):\n",
    "            return jax.vmap(select_tensor)(all_tensors, indices)\n",
    "\n",
    "        # select right tensors using input for matrix multiplication\n",
    "        selected_tensors = jax.vmap(select_all_tensors, (None, 0))(all_tensors, x)\n",
    "        sel_phys_tensors = jax.vmap(select_all_tensors, (None, 0))(all_phystensors, x)\n",
    "\n",
    "        # create loop carry, in this case a unit matrix\n",
    "        edges = jnp.repeat(\n",
    "            jnp.eye(self.bond_dim, dtype=selected_tensors.dtype)[jnp.newaxis, :, :],\n",
    "            selected_tensors.shape[0],\n",
    "            axis=0,\n",
    "        )\n",
    "        edges_phys = jnp.repeat(\n",
    "            jnp.eye(2, dtype=sel_phys_tensors.dtype)[jnp.newaxis, :, :],\n",
    "            sel_phys_tensors.shape[0],\n",
    "            axis=0,\n",
    "        )\n",
    "\n",
    "        def trace_mps(tensors, edge):\n",
    "            def multiply_tensors(left_tensor, right_tensor):\n",
    "                return jnp.einsum(\"ij,jk->ik\", left_tensor, right_tensor), None\n",
    "\n",
    "            edge, _ = jax.lax.scan(multiply_tensors, edge, tensors)\n",
    "            \n",
    "            return jnp.trace(edge)\n",
    "        \n",
    "        def sum_coeff(tensors, edge,):\n",
    "            def multiply_tensors(left_tensor, right_tensor):\n",
    "                return jnp.einsum(\"ij,jk->ik\", left_tensor, right_tensor), None\n",
    "\n",
    "            edge, _ = jax.lax.scan(multiply_tensors, edge, tensors)\n",
    "            return jnp.trace(jnp.einsum(\"ij,jk->ik\", edge, edge.transpose()))\n",
    "        \n",
    "        # trace the matrix multiplication\n",
    "        return jnp.log(1+jax.vmap(trace_mps)(selected_tensors, edges)*jax.vmap(sum_coeff)(sel_phys_tensors, edges_phys))"
   ]
  },
  {
   "cell_type": "code",
   "execution_count": 75,
   "metadata": {},
   "outputs": [],
   "source": [
    "spin_1_hilbert = nk.hilbert.Spin(1,N)"
   ]
  },
  {
   "cell_type": "code",
   "execution_count": 76,
   "metadata": {},
   "outputs": [],
   "source": [
    "c = Chain(N)"
   ]
  },
  {
   "cell_type": "code",
   "execution_count": 77,
   "metadata": {},
   "outputs": [],
   "source": [
    "mp= MPSMod(spin_1_hilbert,c, bond_dim=10, symperiod=1)\n",
    "key1,key2 = jax.random.split(jax.random.key(0))\n",
    "params = mp.init(key1,spin_1_hilbert.random_state(jax.random.key(1)))"
   ]
  },
  {
   "cell_type": "code",
   "execution_count": 78,
   "metadata": {},
   "outputs": [],
   "source": [
    "# spin_1_hilbert.all_states()[14762]"
   ]
  },
  {
   "cell_type": "code",
   "execution_count": 79,
   "metadata": {},
   "outputs": [],
   "source": [
    "# mp.apply(params,np.array(spin_1_hilbert.all_states()[14762]))"
   ]
  },
  {
   "cell_type": "markdown",
   "metadata": {},
   "source": [
    "\n",
    "### We first print various properties of our Hilbert Space and define the QLM spin 1 equivalent Hamiltonian\n",
    "$$H = -\\frac{t}{2}\\sum_i(S_i^+ S_{i+1}^-P_i^{(0)}P_{i+1}^{(0)}+ S_i^- S_{i+1}^+ P_i^{(1)} P_{i+1}^{(-1)}) -m\\sum_i(S_i^z)^2 + \\frac{g^2}{2}\\sum_i (S_i^z +1 - (S_i^z)^2 - (-1)^iE_0)^2$$"
   ]
  },
  {
   "cell_type": "code",
   "execution_count": 80,
   "metadata": {},
   "outputs": [
    {
     "name": "stdout",
     "output_type": "stream",
     "text": [
      "10 (3, 3, 3, 3, 3, 3, 3, 3, 3, 3) [-2.0, 0.0, 2.0]\n"
     ]
    }
   ],
   "source": [
    "print(spin_1_hilbert.size, spin_1_hilbert.shape, spin_1_hilbert.local_states)"
   ]
  },
  {
   "cell_type": "code",
   "execution_count": 81,
   "metadata": {},
   "outputs": [
    {
     "data": {
      "text/plain": [
       "3"
      ]
     },
     "execution_count": 81,
     "metadata": {},
     "output_type": "execute_result"
    }
   ],
   "source": [
    "spin_1_hilbert.local_size"
   ]
  },
  {
   "cell_type": "code",
   "execution_count": 82,
   "metadata": {},
   "outputs": [],
   "source": [
    "def f_init(parmas, sigma):\n",
    "    phys_space = np.where(to_array(mp, params, spin_1_hilbert) != 0)\n",
    "    pdf_init = np.zeros(len(spin_1_hilbert.all_states()))\n",
    "    pdf_init[phys_space[0]] = 1/len(phys_space[0])\n",
    "    return pdf_init"
   ]
  },
  {
   "cell_type": "code",
   "execution_count": 83,
   "metadata": {},
   "outputs": [
    {
     "data": {
      "text/plain": [
       "LocalOperator(dim=10, acting_on=[(1,)], constant=0.0, dtype=float64)"
      ]
     },
     "execution_count": 83,
     "metadata": {},
     "output_type": "execute_result"
    }
   ],
   "source": [
    "proj(spin_1_hilbert,1,0)"
   ]
  },
  {
   "cell_type": "markdown",
   "metadata": {},
   "source": [
    "We implement the Hamiltonian shown above with boundary conditions imposing the presence of a fermion on the first site (site 0, even site) and no fermions on the last one (site N-1, odd site) This is equivalent to enforcing $(S^z_0)^2 = (S^z_{N-1})^2 = 0$ in the spin one formalism."
   ]
  },
  {
   "cell_type": "code",
   "execution_count": 104,
   "metadata": {},
   "outputs": [
    {
     "ename": "SyntaxError",
     "evalue": "unmatched ')' (123895930.py, line 9)",
     "output_type": "error",
     "traceback": [
      "\u001b[1;36m  Cell \u001b[1;32mIn[104], line 9\u001b[1;36m\u001b[0m\n\u001b[1;33m    vstate  = nk.vqs.MCState(nk.sampler.MetropolisSampler(spin_1_hilbert, rule = nk.sampler.rules.HamiltonianRule(H_hop))), MPSPeriodic(spin_1_hilbert,c, bond_dim=10, symperiod=2), n_samples=1000)\u001b[0m\n\u001b[1;37m                                                                                                                                                                                                   ^\u001b[0m\n\u001b[1;31mSyntaxError\u001b[0m\u001b[1;31m:\u001b[0m unmatched ')'\n"
     ]
    }
   ],
   "source": [
    "from tqdm import tqdm\n",
    "from scipy.sparse.linalg import eigsh\n",
    "\n",
    "def optimize_vstate(m, t=0, n_steps = 300, ed_compute = True, mc=False, err_thresh = 1e-7):\n",
    "    H = create_ham(m, N, spin_1_hilbert, t = t)\n",
    "    H_hop = create_ham(0,N,spin_1_hilbert,1000,l_cons=0)\n",
    "    # vstate  = nk.vqs.MCState(nk.sampler.MetropolisSampler(spin_1_hilbert, rule=nk.sampler.rules.HamiltonianRule(H)), MPSMod(spin_1_hilbert,c, bond_dim=10, symperiod=2), n_samples=1000, )\n",
    "    if mc :\n",
    "        vstate  = nk.vqs.MCState(nk.sampler.MetropolisSampler(spin_1_hilbert, rule = nk.sampler.rules.HamiltonianRule(H_hop)), MPSPeriodic(spin_1_hilbert,c, bond_dim=10, symperiod=2), n_samples=1000)\n",
    "  \n",
    "    else :\n",
    "        vstate  = nk.vqs.MCState(nk.sampler.ExactSampler(spin_1_hilbert), MPSMod(spin_1_hilbert,c, bond_dim=10, symperiod=2), n_samples=1000)\n",
    "    \n",
    "    # vstate.sampler.init_state(f_init, np.zeros(1),0)\n",
    "    if ed_compute:\n",
    "        eig_vals, eig_vecs = eigsh(H.to_sparse(), k=2, which=\"SA\")\n",
    "\n",
    "        print(\"eigenvalues with scipy sparse:\", eig_vals)\n",
    "\n",
    "        E_gs = eig_vals[0]\n",
    "        print(E_gs)\n",
    "    \n",
    "    energy_history = []\n",
    "    n_steps = n_steps\n",
    "\n",
    "    for i in tqdm(range(n_steps)):\n",
    "        # compute energy and gradient of the energy\n",
    "        E, E_grad = vstate.expect_and_grad(H)\n",
    "        if i%10 == 0:\n",
    "            print(E)\n",
    "            print(\"Mean                  :\", E.mean)\n",
    "            print(\"Error                 :\", E.error_of_mean)\n",
    "            print(\"Variance              :\", E.variance)\n",
    "            print(\"Convergence indicator :\", E.R_hat)\n",
    "            print(\"Correlation time      :\", E.tau_corr)\n",
    "            print(vstate.sample())\n",
    "        # log the energy to a list\n",
    "        energy_history.append(E.mean.real)\n",
    "        # equivalent to vstate.parameters - 0.05*E_grad , but it performs this\n",
    "        # function on every leaf of the dictionaries containing the set of parameters\n",
    "        new_pars = jax.tree_map(lambda x,y: x-0.01*0.99**i*y, vstate.parameters, E_grad)\n",
    "        # actually update the paramters\n",
    "        vstate.parameters = new_pars\n",
    "        if E.variance < err_thresh:\n",
    "            break\n",
    "    return vstate, energy_history"
   ]
  },
  {
   "cell_type": "code",
   "execution_count": 85,
   "metadata": {},
   "outputs": [],
   "source": [
    "# a = to_array(mp,params,spin_1_hilbert)"
   ]
  },
  {
   "cell_type": "code",
   "execution_count": 86,
   "metadata": {},
   "outputs": [
    {
     "data": {
      "text/plain": [
       "array([59048], dtype=int64)"
      ]
     },
     "execution_count": 86,
     "metadata": {},
     "output_type": "execute_result"
    }
   ],
   "source": [
    "spin_1_hilbert.states_to_numbers(np.array([[2 for i in range(N)]]))"
   ]
  },
  {
   "cell_type": "code",
   "execution_count": 87,
   "metadata": {},
   "outputs": [
    {
     "data": {
      "text/plain": [
       "array([9902], dtype=int64)"
      ]
     },
     "execution_count": 87,
     "metadata": {},
     "output_type": "execute_result"
    }
   ],
   "source": [
    "spin_1_hilbert.states_to_numbers(np.array([[-2.,  0.,  0.,  0.,  0.,  2., -2.,  2., -2.,  2.]]))"
   ]
  },
  {
   "cell_type": "code",
   "execution_count": 88,
   "metadata": {},
   "outputs": [
    {
     "data": {
      "text/plain": [
       "array([-2.,  2., -2.,  2., -2.,  2., -2.,  2., -2.,  2.])"
      ]
     },
     "execution_count": 88,
     "metadata": {},
     "output_type": "execute_result"
    }
   ],
   "source": [
    "spin_1_hilbert.all_states()[14762]"
   ]
  },
  {
   "cell_type": "code",
   "execution_count": 89,
   "metadata": {},
   "outputs": [],
   "source": [
    "H = create_ham(10, N = N, spin_1_hilbert=spin_1_hilbert)\n",
    "# H = sigmap(spin_1_hilbert,0)"
   ]
  },
  {
   "cell_type": "code",
   "execution_count": 90,
   "metadata": {},
   "outputs": [],
   "source": [
    "# m = 0\n",
    "# idm = 0\n",
    "# for id in phys_space[0]:\n",
    "#     e = compute_energy(mp, params, H.to_sparse(), spin_1_hilbert, id)\n",
    "#     if e < m :\n",
    "#         m = e\n",
    "#         idm = id\n",
    "#idm"
   ]
  },
  {
   "cell_type": "code",
   "execution_count": 91,
   "metadata": {},
   "outputs": [
    {
     "data": {
      "text/plain": [
       "array([-2., -2., -2., -2., -2., -2., -2., -2., -2.,  2.])"
      ]
     },
     "execution_count": 91,
     "metadata": {},
     "output_type": "execute_result"
    }
   ],
   "source": [
    "spin_1_hilbert.all_states()[2]"
   ]
  },
  {
   "cell_type": "code",
   "execution_count": 92,
   "metadata": {},
   "outputs": [
    {
     "data": {
      "text/plain": [
       "-127.0"
      ]
     },
     "execution_count": 92,
     "metadata": {},
     "output_type": "execute_result"
    }
   ],
   "source": [
    "compute_state_energy(H.to_sparse(), spin_1_hilbert, 9902)"
   ]
  },
  {
   "cell_type": "code",
   "execution_count": 101,
   "metadata": {},
   "outputs": [
    {
     "name": "stderr",
     "output_type": "stream",
     "text": [
      "c:\\Users\\antoi\\anaconda3\\envs\\netket_env\\Lib\\site-packages\\netket\\vqs\\mc\\mc_state\\state.py:259: UserWarning: n_samples=1000 (1000 per MPI rank) does not divide n_chains=16, increased to 1008 (1008 per MPI rank)\n",
      "  self.n_samples = n_samples\n"
     ]
    },
    {
     "name": "stdout",
     "output_type": "stream",
     "text": [
      "eigenvalues with scipy sparse: [-215. -215.]\n",
      "-215.00000000000034\n"
     ]
    },
    {
     "name": "stderr",
     "output_type": "stream",
     "text": [
      "  2%|▏         | 1/50 [00:07<06:00,  7.36s/it]"
     ]
    },
    {
     "name": "stdout",
     "output_type": "stream",
     "text": [
      "(2, 3, 10, 10)\n",
      "158.9+0.0j ± 7.1 [σ²=50565.5, R̂=1.0167]\n",
      "Mean                  : (158.9345238095238+0j)\n",
      "Error                 : 7.08266523449971\n",
      "Variance              : 50565.45999858272\n",
      "Convergence indicator : 1.0167264967821126\n",
      "Correlation time      : 3.3306690738754696e-16\n"
     ]
    },
    {
     "name": "stderr",
     "output_type": "stream",
     "text": [
      "  4%|▍         | 2/50 [00:08<02:50,  3.56s/it]"
     ]
    },
    {
     "name": "stdout",
     "output_type": "stream",
     "text": [
      "(2, 3, 10, 10)\n"
     ]
    },
    {
     "name": "stderr",
     "output_type": "stream",
     "text": [
      "  6%|▌         | 3/50 [00:09<01:50,  2.35s/it]"
     ]
    },
    {
     "name": "stdout",
     "output_type": "stream",
     "text": [
      "(2, 3, 10, 10)\n"
     ]
    },
    {
     "name": "stderr",
     "output_type": "stream",
     "text": [
      "  8%|▊         | 4/50 [00:09<01:19,  1.74s/it]"
     ]
    },
    {
     "name": "stdout",
     "output_type": "stream",
     "text": [
      "(2, 3, 10, 10)\n"
     ]
    },
    {
     "name": "stderr",
     "output_type": "stream",
     "text": [
      " 10%|█         | 5/50 [00:10<01:03,  1.41s/it]"
     ]
    },
    {
     "name": "stdout",
     "output_type": "stream",
     "text": [
      "(2, 3, 10, 10)\n"
     ]
    },
    {
     "name": "stderr",
     "output_type": "stream",
     "text": [
      " 12%|█▏        | 6/50 [00:11<00:54,  1.23s/it]"
     ]
    },
    {
     "name": "stdout",
     "output_type": "stream",
     "text": [
      "(2, 3, 10, 10)\n"
     ]
    },
    {
     "name": "stderr",
     "output_type": "stream",
     "text": [
      " 14%|█▍        | 7/50 [00:12<00:48,  1.12s/it]"
     ]
    },
    {
     "name": "stdout",
     "output_type": "stream",
     "text": [
      "(2, 3, 10, 10)\n"
     ]
    },
    {
     "name": "stderr",
     "output_type": "stream",
     "text": [
      " 16%|█▌        | 8/50 [00:13<00:44,  1.07s/it]"
     ]
    },
    {
     "name": "stdout",
     "output_type": "stream",
     "text": [
      "(2, 3, 10, 10)\n"
     ]
    },
    {
     "name": "stderr",
     "output_type": "stream",
     "text": [
      " 18%|█▊        | 9/50 [00:14<00:42,  1.05s/it]"
     ]
    },
    {
     "name": "stdout",
     "output_type": "stream",
     "text": [
      "(2, 3, 10, 10)\n"
     ]
    },
    {
     "name": "stderr",
     "output_type": "stream",
     "text": [
      " 20%|██        | 10/50 [00:15<00:39,  1.02it/s]"
     ]
    },
    {
     "name": "stdout",
     "output_type": "stream",
     "text": [
      "(2, 3, 10, 10)\n"
     ]
    },
    {
     "name": "stderr",
     "output_type": "stream",
     "text": [
      " 22%|██▏       | 11/50 [00:16<00:37,  1.03it/s]"
     ]
    },
    {
     "name": "stdout",
     "output_type": "stream",
     "text": [
      "(2, 3, 10, 10)\n",
      "-66.7+0.0j ± 2.7 [σ²=7413.7, R̂=1.3233]\n",
      "Mean                  : (-66.72023809523809+0j)\n",
      "Error                 : 2.711983902844219\n",
      "Variance              : 7413.69554280045\n",
      "Convergence indicator : 1.3232924293788133\n",
      "Correlation time      : 2.220446049250313e-16\n"
     ]
    },
    {
     "name": "stderr",
     "output_type": "stream",
     "text": [
      " 24%|██▍       | 12/50 [00:17<00:36,  1.05it/s]"
     ]
    },
    {
     "name": "stdout",
     "output_type": "stream",
     "text": [
      "(2, 3, 10, 10)\n"
     ]
    },
    {
     "name": "stderr",
     "output_type": "stream",
     "text": [
      " 26%|██▌       | 13/50 [00:18<00:35,  1.04it/s]"
     ]
    },
    {
     "name": "stdout",
     "output_type": "stream",
     "text": [
      "(2, 3, 10, 10)\n"
     ]
    },
    {
     "name": "stderr",
     "output_type": "stream",
     "text": [
      " 28%|██▊       | 14/50 [00:19<00:34,  1.04it/s]"
     ]
    },
    {
     "name": "stdout",
     "output_type": "stream",
     "text": [
      "(2, 3, 10, 10)\n"
     ]
    },
    {
     "name": "stderr",
     "output_type": "stream",
     "text": [
      " 30%|███       | 15/50 [00:20<00:32,  1.07it/s]"
     ]
    },
    {
     "name": "stdout",
     "output_type": "stream",
     "text": [
      "(2, 3, 10, 10)\n"
     ]
    },
    {
     "name": "stderr",
     "output_type": "stream",
     "text": [
      " 32%|███▏      | 16/50 [00:20<00:31,  1.09it/s]"
     ]
    },
    {
     "name": "stdout",
     "output_type": "stream",
     "text": [
      "(2, 3, 10, 10)\n"
     ]
    },
    {
     "name": "stderr",
     "output_type": "stream",
     "text": [
      " 34%|███▍      | 17/50 [00:21<00:29,  1.13it/s]"
     ]
    },
    {
     "name": "stdout",
     "output_type": "stream",
     "text": [
      "(2, 3, 10, 10)\n"
     ]
    },
    {
     "name": "stderr",
     "output_type": "stream",
     "text": [
      " 36%|███▌      | 18/50 [00:22<00:27,  1.18it/s]"
     ]
    },
    {
     "name": "stdout",
     "output_type": "stream",
     "text": [
      "(2, 3, 10, 10)\n"
     ]
    },
    {
     "name": "stderr",
     "output_type": "stream",
     "text": [
      " 38%|███▊      | 19/50 [00:23<00:26,  1.16it/s]"
     ]
    },
    {
     "name": "stdout",
     "output_type": "stream",
     "text": [
      "(2, 3, 10, 10)\n"
     ]
    },
    {
     "name": "stderr",
     "output_type": "stream",
     "text": [
      " 40%|████      | 20/50 [00:24<00:26,  1.12it/s]"
     ]
    },
    {
     "name": "stdout",
     "output_type": "stream",
     "text": [
      "(2, 3, 10, 10)\n"
     ]
    },
    {
     "name": "stderr",
     "output_type": "stream",
     "text": [
      " 42%|████▏     | 21/50 [00:25<00:26,  1.09it/s]"
     ]
    },
    {
     "name": "stdout",
     "output_type": "stream",
     "text": [
      "(2, 3, 10, 10)\n",
      "-73.9+0.0j ± 3.9 [σ²=14945.0, R̂=1.3138]\n",
      "Mean                  : (-73.86309523809524+0j)\n",
      "Error                 : 3.8505056700760325\n",
      "Variance              : 14945.005066609983\n",
      "Convergence indicator : 1.3137994075575012\n",
      "Correlation time      : 0.0\n"
     ]
    },
    {
     "name": "stderr",
     "output_type": "stream",
     "text": [
      " 44%|████▍     | 22/50 [00:26<00:24,  1.12it/s]"
     ]
    },
    {
     "name": "stdout",
     "output_type": "stream",
     "text": [
      "(2, 3, 10, 10)\n"
     ]
    },
    {
     "name": "stderr",
     "output_type": "stream",
     "text": [
      " 46%|████▌     | 23/50 [00:26<00:23,  1.15it/s]"
     ]
    },
    {
     "name": "stdout",
     "output_type": "stream",
     "text": [
      "(2, 3, 10, 10)\n"
     ]
    },
    {
     "name": "stderr",
     "output_type": "stream",
     "text": [
      " 48%|████▊     | 24/50 [00:27<00:22,  1.13it/s]"
     ]
    },
    {
     "name": "stdout",
     "output_type": "stream",
     "text": [
      "(2, 3, 10, 10)\n"
     ]
    },
    {
     "name": "stderr",
     "output_type": "stream",
     "text": [
      " 50%|█████     | 25/50 [00:28<00:22,  1.12it/s]"
     ]
    },
    {
     "name": "stdout",
     "output_type": "stream",
     "text": [
      "(2, 3, 10, 10)\n"
     ]
    },
    {
     "name": "stderr",
     "output_type": "stream",
     "text": [
      " 52%|█████▏    | 26/50 [00:29<00:21,  1.14it/s]"
     ]
    },
    {
     "name": "stdout",
     "output_type": "stream",
     "text": [
      "(2, 3, 10, 10)\n"
     ]
    },
    {
     "name": "stderr",
     "output_type": "stream",
     "text": [
      " 54%|█████▍    | 27/50 [00:30<00:20,  1.12it/s]"
     ]
    },
    {
     "name": "stdout",
     "output_type": "stream",
     "text": [
      "(2, 3, 10, 10)\n"
     ]
    },
    {
     "name": "stderr",
     "output_type": "stream",
     "text": [
      " 56%|█████▌    | 28/50 [00:31<00:19,  1.10it/s]"
     ]
    },
    {
     "name": "stdout",
     "output_type": "stream",
     "text": [
      "(2, 3, 10, 10)\n"
     ]
    },
    {
     "name": "stderr",
     "output_type": "stream",
     "text": [
      " 58%|█████▊    | 29/50 [00:32<00:18,  1.11it/s]"
     ]
    },
    {
     "name": "stdout",
     "output_type": "stream",
     "text": [
      "(2, 3, 10, 10)\n"
     ]
    },
    {
     "name": "stderr",
     "output_type": "stream",
     "text": [
      " 60%|██████    | 30/50 [00:33<00:17,  1.14it/s]"
     ]
    },
    {
     "name": "stdout",
     "output_type": "stream",
     "text": [
      "(2, 3, 10, 10)\n"
     ]
    },
    {
     "name": "stderr",
     "output_type": "stream",
     "text": [
      " 62%|██████▏   | 31/50 [00:34<00:16,  1.14it/s]"
     ]
    },
    {
     "name": "stdout",
     "output_type": "stream",
     "text": [
      "(2, 3, 10, 10)\n",
      "-52.3+0.0j ± 4.5 [σ²=20756.9, R̂=1.3620]\n",
      "Mean                  : (-52.31547619047619+0j)\n",
      "Error                 : 4.53786408021842\n",
      "Variance              : 20756.948093820876\n",
      "Convergence indicator : 1.3619960507231967\n",
      "Correlation time      : 0.0\n"
     ]
    },
    {
     "name": "stderr",
     "output_type": "stream",
     "text": [
      " 64%|██████▍   | 32/50 [00:35<00:16,  1.12it/s]"
     ]
    },
    {
     "name": "stdout",
     "output_type": "stream",
     "text": [
      "(2, 3, 10, 10)\n"
     ]
    },
    {
     "name": "stderr",
     "output_type": "stream",
     "text": [
      " 66%|██████▌   | 33/50 [00:35<00:14,  1.14it/s]"
     ]
    },
    {
     "name": "stdout",
     "output_type": "stream",
     "text": [
      "(2, 3, 10, 10)\n"
     ]
    },
    {
     "name": "stderr",
     "output_type": "stream",
     "text": [
      " 68%|██████▊   | 34/50 [00:36<00:14,  1.12it/s]"
     ]
    },
    {
     "name": "stdout",
     "output_type": "stream",
     "text": [
      "(2, 3, 10, 10)\n"
     ]
    },
    {
     "name": "stderr",
     "output_type": "stream",
     "text": [
      " 70%|███████   | 35/50 [00:37<00:12,  1.16it/s]"
     ]
    },
    {
     "name": "stdout",
     "output_type": "stream",
     "text": [
      "(2, 3, 10, 10)\n"
     ]
    },
    {
     "name": "stderr",
     "output_type": "stream",
     "text": [
      " 72%|███████▏  | 36/50 [00:38<00:12,  1.13it/s]"
     ]
    },
    {
     "name": "stdout",
     "output_type": "stream",
     "text": [
      "(2, 3, 10, 10)\n"
     ]
    },
    {
     "name": "stderr",
     "output_type": "stream",
     "text": [
      " 74%|███████▍  | 37/50 [00:39<00:11,  1.17it/s]"
     ]
    },
    {
     "name": "stdout",
     "output_type": "stream",
     "text": [
      "(2, 3, 10, 10)\n"
     ]
    },
    {
     "name": "stderr",
     "output_type": "stream",
     "text": [
      " 76%|███████▌  | 38/50 [00:40<00:10,  1.14it/s]"
     ]
    },
    {
     "name": "stdout",
     "output_type": "stream",
     "text": [
      "(2, 3, 10, 10)\n"
     ]
    },
    {
     "name": "stderr",
     "output_type": "stream",
     "text": [
      " 78%|███████▊  | 39/50 [00:41<00:10,  1.09it/s]"
     ]
    },
    {
     "name": "stdout",
     "output_type": "stream",
     "text": [
      "(2, 3, 10, 10)\n"
     ]
    },
    {
     "name": "stderr",
     "output_type": "stream",
     "text": [
      " 80%|████████  | 40/50 [00:42<00:09,  1.06it/s]"
     ]
    },
    {
     "name": "stdout",
     "output_type": "stream",
     "text": [
      "(2, 3, 10, 10)\n"
     ]
    },
    {
     "name": "stderr",
     "output_type": "stream",
     "text": [
      " 82%|████████▏ | 41/50 [00:43<00:09,  1.04s/it]"
     ]
    },
    {
     "name": "stdout",
     "output_type": "stream",
     "text": [
      "(2, 3, 10, 10)\n",
      "-63.6+0.0j ± 4.4 [σ²=19300.5, R̂=1.2690]\n",
      "Mean                  : (-63.56547619047619+0j)\n",
      "Error                 : 4.375770826005776\n",
      "Variance              : 19300.549284297056\n",
      "Convergence indicator : 1.2690250337407598\n",
      "Correlation time      : 0.0\n"
     ]
    },
    {
     "name": "stderr",
     "output_type": "stream",
     "text": [
      " 84%|████████▍ | 42/50 [00:44<00:07,  1.01it/s]"
     ]
    },
    {
     "name": "stdout",
     "output_type": "stream",
     "text": [
      "(2, 3, 10, 10)\n"
     ]
    },
    {
     "name": "stderr",
     "output_type": "stream",
     "text": [
      " 86%|████████▌ | 43/50 [00:45<00:07,  1.01s/it]"
     ]
    },
    {
     "name": "stdout",
     "output_type": "stream",
     "text": [
      "(2, 3, 10, 10)\n"
     ]
    },
    {
     "name": "stderr",
     "output_type": "stream",
     "text": [
      " 88%|████████▊ | 44/50 [00:46<00:06,  1.06s/it]"
     ]
    },
    {
     "name": "stdout",
     "output_type": "stream",
     "text": [
      "(2, 3, 10, 10)\n"
     ]
    },
    {
     "name": "stderr",
     "output_type": "stream",
     "text": [
      " 90%|█████████ | 45/50 [00:47<00:04,  1.00it/s]"
     ]
    },
    {
     "name": "stdout",
     "output_type": "stream",
     "text": [
      "(2, 3, 10, 10)\n"
     ]
    },
    {
     "name": "stderr",
     "output_type": "stream",
     "text": [
      " 92%|█████████▏| 46/50 [00:48<00:03,  1.06it/s]"
     ]
    },
    {
     "name": "stdout",
     "output_type": "stream",
     "text": [
      "(2, 3, 10, 10)\n"
     ]
    },
    {
     "name": "stderr",
     "output_type": "stream",
     "text": [
      " 94%|█████████▍| 47/50 [00:49<00:02,  1.11it/s]"
     ]
    },
    {
     "name": "stdout",
     "output_type": "stream",
     "text": [
      "(2, 3, 10, 10)\n"
     ]
    },
    {
     "name": "stderr",
     "output_type": "stream",
     "text": [
      " 96%|█████████▌| 48/50 [00:49<00:01,  1.12it/s]"
     ]
    },
    {
     "name": "stdout",
     "output_type": "stream",
     "text": [
      "(2, 3, 10, 10)\n"
     ]
    },
    {
     "name": "stderr",
     "output_type": "stream",
     "text": [
      " 98%|█████████▊| 49/50 [00:50<00:00,  1.17it/s]"
     ]
    },
    {
     "name": "stdout",
     "output_type": "stream",
     "text": [
      "(2, 3, 10, 10)\n"
     ]
    },
    {
     "name": "stderr",
     "output_type": "stream",
     "text": [
      "100%|██████████| 50/50 [00:51<00:00,  1.03s/it]"
     ]
    },
    {
     "name": "stdout",
     "output_type": "stream",
     "text": [
      "(2, 3, 10, 10)\n"
     ]
    },
    {
     "name": "stderr",
     "output_type": "stream",
     "text": [
      "\n"
     ]
    },
    {
     "data": {
      "image/png": "[encoded data removed]",
      "text/plain": [
       "<Figure size 640x480 with 1 Axes>"
      ]
     },
     "metadata": {},
     "output_type": "display_data"
    },
    {
     "data": {
      "text/plain": [
       "<Figure size 640x480 with 0 Axes>"
      ]
     },
     "metadata": {},
     "output_type": "display_data"
    }
   ],
   "source": [
    "v,e = optimize_vstate(10, 0, n_steps = 50, ed_compute=True, mc=True)\n",
    "plt.plot(e)\n",
    "plt.xlabel(\"steps\")\n",
    "plt.ylabel(\"H\")\n",
    "plt.title(\"Energy Minimization with t=0, m=10, MC Sampling\")\n",
    "plt.show()\n",
    "plt.clf()"
   ]
  },
  {
   "cell_type": "code",
   "execution_count": null,
   "metadata": {},
   "outputs": [],
   "source": [
    "# H = create_ham(10, N, spin_1_hilbert)\n",
    "# v.sample()[0]"
   ]
  },
  {
   "cell_type": "code",
   "execution_count": null,
   "metadata": {},
   "outputs": [],
   "source": [
    "# compute_state_energy(H.to_sparse(), spin_1_hilbert, 9902)"
   ]
  },
  {
   "cell_type": "code",
   "execution_count": null,
   "metadata": {},
   "outputs": [],
   "source": [
    "# vars(v)"
   ]
  },
  {
   "cell_type": "code",
   "execution_count": null,
   "metadata": {},
   "outputs": [
    {
     "name": "stderr",
     "output_type": "stream",
     "text": [
      "  2%|▏         | 1/50 [00:05<04:24,  5.39s/it]"
     ]
    },
    {
     "name": "stdout",
     "output_type": "stream",
     "text": [
      "396.2+0.0j ± 6.9 [σ²=50822.2]\n",
      "Mean                  : (396.2384928896204+0.00047323918495385445j)\n",
      "Error                 : 6.914174998934907\n",
      "Variance              : 50822.24436482852\n",
      "Convergence indicator : nan\n",
      "Correlation time      : 0.0\n"
     ]
    },
    {
     "name": "stderr",
     "output_type": "stream",
     "text": [
      " 22%|██▏       | 11/50 [00:24<01:12,  1.86s/it]"
     ]
    },
    {
     "name": "stdout",
     "output_type": "stream",
     "text": [
      "178.1+0.0j ± 2.4 [σ²=6115.4]\n",
      "Mean                  : (178.1414342401242+0.0003806119934124582j)\n",
      "Error                 : 2.393865397478797\n",
      "Variance              : 6115.354134951101\n",
      "Convergence indicator : nan\n",
      "Correlation time      : 0.0\n"
     ]
    },
    {
     "name": "stderr",
     "output_type": "stream",
     "text": [
      " 42%|████▏     | 21/50 [00:41<00:50,  1.75s/it]"
     ]
    },
    {
     "name": "stdout",
     "output_type": "stream",
     "text": [
      "143.6+0.0j ± 2.0 [σ²=3399.8]\n",
      "Mean                  : (143.6390160518808+0.00025870225104154094j)\n",
      "Error                 : 2.0389529697561253\n",
      "Variance              : 3399.794320693452\n",
      "Convergence indicator : nan\n",
      "Correlation time      : 0.11140892958921089\n"
     ]
    },
    {
     "name": "stderr",
     "output_type": "stream",
     "text": [
      " 62%|██████▏   | 31/50 [00:59<00:34,  1.80s/it]"
     ]
    },
    {
     "name": "stdout",
     "output_type": "stream",
     "text": [
      "112.3+0.0j ± 1.4 [σ²=2456.0]\n",
      "Mean                  : (112.25450206771353+0.0005448813745751977j)\n",
      "Error                 : 1.4481323239976291\n",
      "Variance              : 2456.013814297252\n",
      "Convergence indicator : nan\n",
      "Correlation time      : 0.0\n"
     ]
    },
    {
     "name": "stderr",
     "output_type": "stream",
     "text": [
      " 82%|████████▏ | 41/50 [01:17<00:16,  1.81s/it]"
     ]
    },
    {
     "name": "stdout",
     "output_type": "stream",
     "text": [
      "90.2+0.0j ± 1.2 [σ²=1380.9]\n",
      "Mean                  : (90.24714083909244+0.0003636635539442068j)\n",
      "Error                 : 1.243379347164801\n",
      "Variance              : 1380.8518700472252\n",
      "Convergence indicator : nan\n",
      "Correlation time      : 0.059796540994326075\n"
     ]
    },
    {
     "name": "stderr",
     "output_type": "stream",
     "text": [
      "100%|██████████| 50/50 [01:34<00:00,  1.88s/it]\n"
     ]
    },
    {
     "data": {
      "image/png": "[encoded data removed]",
      "text/plain": [
       "<Figure size 640x480 with 1 Axes>"
      ]
     },
     "metadata": {},
     "output_type": "display_data"
    },
    {
     "name": "stderr",
     "output_type": "stream",
     "text": [
      "  2%|▏         | 1/50 [00:03<02:33,  3.13s/it]"
     ]
    },
    {
     "name": "stdout",
     "output_type": "stream",
     "text": [
      "386.1+0.0j ± 7.3 [σ²=51022.2]\n",
      "Mean                  : (386.0617255265573+0.00029410844418453075j)\n",
      "Error                 : 7.294394629540234\n",
      "Variance              : 51022.22505957401\n",
      "Convergence indicator : nan\n",
      "Correlation time      : 0.021421723075963794\n"
     ]
    },
    {
     "name": "stderr",
     "output_type": "stream",
     "text": [
      " 22%|██▏       | 11/50 [00:20<01:09,  1.78s/it]"
     ]
    },
    {
     "name": "stdout",
     "output_type": "stream",
     "text": [
      "160.8+0.0j ± 2.0 [σ²=4957.5]\n",
      "Mean                  : (160.76891090820743+0.00014494425046177644j)\n",
      "Error                 : 2.020150386426718\n",
      "Variance              : 4957.508289657743\n",
      "Convergence indicator : nan\n",
      "Correlation time      : 0.0\n"
     ]
    },
    {
     "name": "stderr",
     "output_type": "stream",
     "text": [
      " 42%|████▏     | 21/50 [00:38<00:50,  1.73s/it]"
     ]
    },
    {
     "name": "stdout",
     "output_type": "stream",
     "text": [
      "134.5-0.0j ± 1.8 [σ²=3191.5]\n",
      "Mean                  : (134.46378277553387-4.124460749380888e-05j)\n",
      "Error                 : 1.7676833426830112\n",
      "Variance              : 3191.5032734261413\n",
      "Convergence indicator : nan\n",
      "Correlation time      : 0.0\n"
     ]
    },
    {
     "name": "stderr",
     "output_type": "stream",
     "text": [
      " 62%|██████▏   | 31/50 [00:55<00:33,  1.76s/it]"
     ]
    },
    {
     "name": "stdout",
     "output_type": "stream",
     "text": [
      "103.0-0.0j ± 1.4 [σ²=2302.1]\n",
      "Mean                  : (103.0147063330421-9.718001479632222e-05j)\n",
      "Error                 : 1.4039176977346395\n",
      "Variance              : 2302.0743055018424\n",
      "Convergence indicator : nan\n",
      "Correlation time      : 0.0\n"
     ]
    },
    {
     "name": "stderr",
     "output_type": "stream",
     "text": [
      " 82%|████████▏ | 41/50 [01:13<00:16,  1.81s/it]"
     ]
    },
    {
     "name": "stdout",
     "output_type": "stream",
     "text": [
      "87.24-0.00j ± 0.93 [σ²=781.78]\n",
      "Mean                  : (87.24096539938941-9.804500800964891e-05j)\n",
      "Error                 : 0.9342889508693797\n",
      "Variance              : 781.7787548415091\n",
      "Convergence indicator : nan\n",
      "Correlation time      : 0.058275495663456245\n"
     ]
    },
    {
     "name": "stderr",
     "output_type": "stream",
     "text": [
      "100%|██████████| 50/50 [01:30<00:00,  1.81s/it]\n"
     ]
    },
    {
     "data": {
      "image/png": "[encoded data removed]",
      "text/plain": [
       "<Figure size 640x480 with 1 Axes>"
      ]
     },
     "metadata": {},
     "output_type": "display_data"
    },
    {
     "name": "stderr",
     "output_type": "stream",
     "text": [
      "  2%|▏         | 1/50 [00:02<02:05,  2.56s/it]"
     ]
    },
    {
     "name": "stdout",
     "output_type": "stream",
     "text": [
      "357.8-0.0j ± 7.8 [σ²=51374.1]\n",
      "Mean                  : (357.8138674979408-0.00012829722296919506j)\n",
      "Error                 : 7.841101962796268\n",
      "Variance              : 51374.12504302478\n",
      "Convergence indicator : nan\n",
      "Correlation time      : 0.09838371884170116\n"
     ]
    },
    {
     "name": "stderr",
     "output_type": "stream",
     "text": [
      " 22%|██▏       | 11/50 [00:20<01:08,  1.76s/it]"
     ]
    },
    {
     "name": "stdout",
     "output_type": "stream",
     "text": [
      "160.2+0.0j ± 2.2 [σ²=5957.2]\n",
      "Mean                  : (160.15678284167808+0.00013347693120977058j)\n",
      "Error                 : 2.1819880877233007\n",
      "Variance              : 5957.211627463\n",
      "Convergence indicator : nan\n",
      "Correlation time      : 0.0\n"
     ]
    },
    {
     "name": "stderr",
     "output_type": "stream",
     "text": [
      " 42%|████▏     | 21/50 [00:38<00:52,  1.80s/it]"
     ]
    },
    {
     "name": "stdout",
     "output_type": "stream",
     "text": [
      "137.1+0.0j ± 1.9 [σ²=3843.6]\n",
      "Mean                  : (137.09865963450764+0.00011912544781262117j)\n",
      "Error                 : 1.9477685037915098\n",
      "Variance              : 3843.611235567327\n",
      "Convergence indicator : nan\n",
      "Correlation time      : 0.0\n"
     ]
    },
    {
     "name": "stderr",
     "output_type": "stream",
     "text": [
      " 62%|██████▏   | 31/50 [00:56<00:34,  1.79s/it]"
     ]
    },
    {
     "name": "stdout",
     "output_type": "stream",
     "text": [
      "109.3+0.0j ± 1.3 [σ²=2299.2]\n",
      "Mean                  : (109.27660485196425+0.00019060044160966073j)\n",
      "Error                 : 1.3418593312683216\n",
      "Variance              : 2299.22305966652\n",
      "Convergence indicator : nan\n",
      "Correlation time      : 0.0\n"
     ]
    },
    {
     "name": "stderr",
     "output_type": "stream",
     "text": [
      " 82%|████████▏ | 41/50 [01:14<00:16,  1.87s/it]"
     ]
    },
    {
     "name": "stdout",
     "output_type": "stream",
     "text": [
      "93.8+0.0j ± 1.4 [σ²=2675.2]\n",
      "Mean                  : (93.7811447222339+2.622699219500632e-06j)\n",
      "Error                 : 1.3814481087672588\n",
      "Variance              : 2675.210099503331\n",
      "Convergence indicator : nan\n",
      "Correlation time      : 0.0\n"
     ]
    },
    {
     "name": "stderr",
     "output_type": "stream",
     "text": [
      "100%|██████████| 50/50 [01:31<00:00,  1.83s/it]\n"
     ]
    },
    {
     "data": {
      "image/png": "[encoded data removed]",
      "text/plain": [
       "<Figure size 640x480 with 1 Axes>"
      ]
     },
     "metadata": {},
     "output_type": "display_data"
    },
    {
     "name": "stderr",
     "output_type": "stream",
     "text": [
      "  2%|▏         | 1/50 [00:02<01:56,  2.38s/it]"
     ]
    },
    {
     "name": "stdout",
     "output_type": "stream",
     "text": [
      "360.6-0.0j ± 6.8 [σ²=52556.2]\n",
      "Mean                  : (360.58813849754387-8.599468643399183e-05j)\n",
      "Error                 : 6.770482126783092\n",
      "Variance              : 52556.242288411544\n",
      "Convergence indicator : nan\n",
      "Correlation time      : 0.0\n"
     ]
    },
    {
     "name": "stderr",
     "output_type": "stream",
     "text": [
      " 22%|██▏       | 11/50 [00:20<01:08,  1.77s/it]"
     ]
    },
    {
     "name": "stdout",
     "output_type": "stream",
     "text": [
      "150.9-0.0j ± 2.4 [σ²=4180.0]\n",
      "Mean                  : (150.8647157914083-0.00025358487556877666j)\n",
      "Error                 : 2.42832294551046\n",
      "Variance              : 4179.961520687474\n",
      "Convergence indicator : nan\n",
      "Correlation time      : 0.20535964248813976\n"
     ]
    },
    {
     "name": "stderr",
     "output_type": "stream",
     "text": [
      " 42%|████▏     | 21/50 [00:37<00:50,  1.76s/it]"
     ]
    },
    {
     "name": "stdout",
     "output_type": "stream",
     "text": [
      "140.2-0.0j ± 1.8 [σ²=3960.5]\n",
      "Mean                  : (140.15556036727537-0.0003770521248661681j)\n",
      "Error                 : 1.7992149401952549\n",
      "Variance              : 3960.464955529305\n",
      "Convergence indicator : nan\n",
      "Correlation time      : 0.0\n"
     ]
    },
    {
     "name": "stderr",
     "output_type": "stream",
     "text": [
      " 62%|██████▏   | 31/50 [00:55<00:33,  1.75s/it]"
     ]
    },
    {
     "name": "stdout",
     "output_type": "stream",
     "text": [
      "124.7-0.0j ± 1.7 [σ²=3451.2]\n",
      "Mean                  : (124.72634789215098-0.0006604474764390035j)\n",
      "Error                 : 1.6754996441388321\n",
      "Variance              : 3451.2151239914083\n",
      "Convergence indicator : nan\n",
      "Correlation time      : 0.0\n"
     ]
    },
    {
     "name": "stderr",
     "output_type": "stream",
     "text": [
      " 82%|████████▏ | 41/50 [01:13<00:16,  1.79s/it]"
     ]
    },
    {
     "name": "stdout",
     "output_type": "stream",
     "text": [
      "96.1-0.0j ± 1.7 [σ²=3012.0]\n",
      "Mean                  : (96.06187242425376-0.0015938261896517364j)\n",
      "Error                 : 1.6668715862490302\n",
      "Variance              : 3012.0194897169845\n",
      "Convergence indicator : nan\n",
      "Correlation time      : 0.0\n"
     ]
    },
    {
     "name": "stderr",
     "output_type": "stream",
     "text": [
      "100%|██████████| 50/50 [01:30<00:00,  1.80s/it]\n"
     ]
    },
    {
     "data": {
      "image/png": "[encoded data removed]",
      "text/plain": [
       "<Figure size 640x480 with 1 Axes>"
      ]
     },
     "metadata": {},
     "output_type": "display_data"
    },
    {
     "name": "stderr",
     "output_type": "stream",
     "text": [
      "  2%|▏         | 1/50 [00:02<01:52,  2.30s/it]"
     ]
    },
    {
     "name": "stdout",
     "output_type": "stream",
     "text": [
      "331.1+0.0j ± 5.8 [σ²=51059.9]\n",
      "Mean                  : (331.1470990068464+0.00013680260490946244j)\n",
      "Error                 : 5.793159087074771\n",
      "Variance              : 51059.86120256545\n",
      "Convergence indicator : nan\n",
      "Correlation time      : 0.0\n"
     ]
    },
    {
     "name": "stderr",
     "output_type": "stream",
     "text": [
      " 22%|██▏       | 11/50 [00:20<01:09,  1.79s/it]"
     ]
    },
    {
     "name": "stdout",
     "output_type": "stream",
     "text": [
      "145.1-0.0j ± 2.5 [σ²=7760.9]\n",
      "Mean                  : (145.10344704518096-0.00015318227423131252j)\n",
      "Error                 : 2.5015720212930788\n",
      "Variance              : 7760.930678580664\n",
      "Convergence indicator : nan\n",
      "Correlation time      : 0.0\n"
     ]
    },
    {
     "name": "stderr",
     "output_type": "stream",
     "text": [
      " 42%|████▏     | 21/50 [00:37<00:51,  1.77s/it]"
     ]
    },
    {
     "name": "stdout",
     "output_type": "stream",
     "text": [
      "137.3-0.0j ± 2.3 [σ²=4575.9]\n",
      "Mean                  : (137.28955599100195-4.861883855471661e-05j)\n",
      "Error                 : 2.2918772557040783\n",
      "Variance              : 4575.93707654652\n",
      "Convergence indicator : nan\n",
      "Correlation time      : 0.07394816267642979\n"
     ]
    },
    {
     "name": "stderr",
     "output_type": "stream",
     "text": [
      " 62%|██████▏   | 31/50 [00:56<00:36,  1.92s/it]"
     ]
    },
    {
     "name": "stdout",
     "output_type": "stream",
     "text": [
      "132.9+0.0j ± 1.8 [σ²=3441.1]\n",
      "Mean                  : (132.87189190588234+3.079030187950593e-05j)\n",
      "Error                 : 1.8047675778004975\n",
      "Variance              : 3441.0786366521784\n",
      "Convergence indicator : nan\n",
      "Correlation time      : 0.0\n"
     ]
    },
    {
     "name": "stderr",
     "output_type": "stream",
     "text": [
      " 82%|████████▏ | 41/50 [01:14<00:16,  1.78s/it]"
     ]
    },
    {
     "name": "stdout",
     "output_type": "stream",
     "text": [
      "131.3+0.0j ± 1.7 [σ²=2791.3]\n",
      "Mean                  : (131.2546042754772+6.386376255579764e-05j)\n",
      "Error                 : 1.6615479418075028\n",
      "Variance              : 2791.3404109784274\n",
      "Convergence indicator : nan\n",
      "Correlation time      : 0.0\n"
     ]
    },
    {
     "name": "stderr",
     "output_type": "stream",
     "text": [
      "100%|██████████| 50/50 [01:30<00:00,  1.80s/it]\n"
     ]
    },
    {
     "data": {
      "image/png": "[encoded data removed]",
      "text/plain": [
       "<Figure size 640x480 with 1 Axes>"
      ]
     },
     "metadata": {},
     "output_type": "display_data"
    },
    {
     "name": "stderr",
     "output_type": "stream",
     "text": [
      "  2%|▏         | 1/50 [00:02<01:58,  2.42s/it]"
     ]
    },
    {
     "name": "stdout",
     "output_type": "stream",
     "text": [
      "325.0-0.0j ± 8.4 [σ²=50708.2]\n",
      "Mean                  : (324.9835990796314-0.0001440033949620558j)\n",
      "Error                 : 8.41745437393822\n",
      "Variance              : 50708.17652725495\n",
      "Convergence indicator : nan\n",
      "Correlation time      : 0.19864016998569112\n"
     ]
    },
    {
     "name": "stderr",
     "output_type": "stream",
     "text": [
      " 22%|██▏       | 11/50 [00:20<01:09,  1.78s/it]"
     ]
    },
    {
     "name": "stdout",
     "output_type": "stream",
     "text": [
      "129.2-0.0j ± 2.4 [σ²=6151.4]\n",
      "Mean                  : (129.2036778795312-0.00021236803189185596j)\n",
      "Error                 : 2.4499603355928974\n",
      "Variance              : 6151.443187643914\n",
      "Convergence indicator : nan\n",
      "Correlation time      : 0.0\n"
     ]
    },
    {
     "name": "stderr",
     "output_type": "stream",
     "text": [
      " 42%|████▏     | 21/50 [00:37<00:51,  1.76s/it]"
     ]
    },
    {
     "name": "stdout",
     "output_type": "stream",
     "text": [
      "97.0-0.0j ± 1.4 [σ²=1776.9]\n",
      "Mean                  : (96.956718554416-9.454469045158478e-05j)\n",
      "Error                 : 1.3842586170075493\n",
      "Variance              : 1776.9096549577844\n",
      "Convergence indicator : nan\n",
      "Correlation time      : 0.03918664728206944\n"
     ]
    },
    {
     "name": "stderr",
     "output_type": "stream",
     "text": [
      " 62%|██████▏   | 31/50 [00:55<00:32,  1.73s/it]"
     ]
    },
    {
     "name": "stdout",
     "output_type": "stream",
     "text": [
      "82.01-0.00j ± 0.62 [σ²=463.39]\n",
      "Mean                  : (82.01053398240889-2.078617434563057e-05j)\n",
      "Error                 : 0.6152027122984233\n",
      "Variance              : 463.38657666865623\n",
      "Convergence indicator : nan\n",
      "Correlation time      : 0.0\n"
     ]
    },
    {
     "name": "stderr",
     "output_type": "stream",
     "text": [
      " 82%|████████▏ | 41/50 [01:14<00:17,  1.90s/it]"
     ]
    },
    {
     "name": "stdout",
     "output_type": "stream",
     "text": [
      "76.71-0.00j ± 0.42 [σ²=160.70]\n",
      "Mean                  : (76.71051753108027-1.8522811908042062e-05j)\n",
      "Error                 : 0.4159548061066906\n",
      "Variance              : 160.70160981855048\n",
      "Convergence indicator : nan\n",
      "Correlation time      : 0.03832192757313102\n"
     ]
    },
    {
     "name": "stderr",
     "output_type": "stream",
     "text": [
      "100%|██████████| 50/50 [01:29<00:00,  1.79s/it]\n"
     ]
    },
    {
     "data": {
      "image/png": "[encoded data removed]",
      "text/plain": [
       "<Figure size 640x480 with 1 Axes>"
      ]
     },
     "metadata": {},
     "output_type": "display_data"
    },
    {
     "name": "stderr",
     "output_type": "stream",
     "text": [
      "  2%|▏         | 1/50 [00:02<01:57,  2.41s/it]"
     ]
    },
    {
     "name": "stdout",
     "output_type": "stream",
     "text": [
      "312.3-0.0j ± 6.4 [σ²=51376.0]\n",
      "Mean                  : (312.291578667437-4.7294829942984615e-05j)\n",
      "Error                 : 6.442424284247877\n",
      "Variance              : 51375.99972940594\n",
      "Convergence indicator : nan\n",
      "Correlation time      : 0.0\n"
     ]
    },
    {
     "name": "stderr",
     "output_type": "stream",
     "text": [
      " 22%|██▏       | 11/50 [00:20<01:09,  1.77s/it]"
     ]
    },
    {
     "name": "stdout",
     "output_type": "stream",
     "text": [
      "113.4+0.0j ± 2.7 [σ²=6273.0]\n",
      "Mean                  : (113.41630914882437+0.00010317671981647437j)\n",
      "Error                 : 2.7065956438999668\n",
      "Variance              : 6272.99825695292\n",
      "Convergence indicator : nan\n",
      "Correlation time      : 0.0839041937767635\n"
     ]
    },
    {
     "name": "stderr",
     "output_type": "stream",
     "text": [
      " 42%|████▏     | 21/50 [00:37<00:48,  1.68s/it]"
     ]
    },
    {
     "name": "stdout",
     "output_type": "stream",
     "text": [
      "68.7-0.0j ± 1.0 [σ²=1142.9]\n",
      "Mean                  : (68.66138951620945-1.3229704865807437e-05j)\n",
      "Error                 : 1.0245601978802203\n",
      "Variance              : 1142.9421638051035\n",
      "Convergence indicator : nan\n",
      "Correlation time      : 0.0\n"
     ]
    },
    {
     "name": "stderr",
     "output_type": "stream",
     "text": [
      " 62%|██████▏   | 31/50 [00:54<00:32,  1.70s/it]"
     ]
    },
    {
     "name": "stdout",
     "output_type": "stream",
     "text": [
      "55.91-0.00j ± 0.41 [σ²=251.37]\n",
      "Mean                  : (55.91281557744263-9.472642845139491e-06j)\n",
      "Error                 : 0.4066549106642692\n",
      "Variance              : 251.3667353467056\n",
      "Convergence indicator : nan\n",
      "Correlation time      : 0.0\n"
     ]
    },
    {
     "name": "stderr",
     "output_type": "stream",
     "text": [
      " 82%|████████▏ | 41/50 [01:11<00:14,  1.66s/it]"
     ]
    },
    {
     "name": "stdout",
     "output_type": "stream",
     "text": [
      "53.20-0.00j ± 0.30 [σ²=86.59]\n",
      "Mean                  : (53.20183852216326-6.773635658191781e-06j)\n",
      "Error                 : 0.30033831584938775\n",
      "Variance              : 86.58774664314737\n",
      "Convergence indicator : nan\n",
      "Correlation time      : 0.020876841494669618\n"
     ]
    },
    {
     "name": "stderr",
     "output_type": "stream",
     "text": [
      "100%|██████████| 50/50 [01:28<00:00,  1.77s/it]\n"
     ]
    },
    {
     "data": {
      "image/png": "[encoded data removed]",
      "text/plain": [
       "<Figure size 640x480 with 1 Axes>"
      ]
     },
     "metadata": {},
     "output_type": "display_data"
    },
    {
     "name": "stderr",
     "output_type": "stream",
     "text": [
      "  2%|▏         | 1/50 [00:02<01:50,  2.26s/it]"
     ]
    },
    {
     "name": "stdout",
     "output_type": "stream",
     "text": [
      "297.9+0.0j ± 7.0 [σ²=48670.0]\n",
      "Mean                  : (297.9495286432953+2.157051094400231e-06j)\n",
      "Error                 : 6.974874992209433\n",
      "Variance              : 48670.01748093593\n",
      "Convergence indicator : nan\n",
      "Correlation time      : 0.0\n"
     ]
    },
    {
     "name": "stderr",
     "output_type": "stream",
     "text": [
      " 22%|██▏       | 11/50 [00:21<01:14,  1.92s/it]"
     ]
    },
    {
     "name": "stdout",
     "output_type": "stream",
     "text": [
      "89.2+0.0j ± 2.5 [σ²=6460.5]\n",
      "Mean                  : (89.17328448219426+5.124422725748446e-05j)\n",
      "Error                 : 2.5068718424072767\n",
      "Variance              : 6460.519008509681\n",
      "Convergence indicator : nan\n",
      "Correlation time      : 0.0\n"
     ]
    },
    {
     "name": "stderr",
     "output_type": "stream",
     "text": [
      " 42%|████▏     | 21/50 [00:39<00:48,  1.68s/it]"
     ]
    },
    {
     "name": "stdout",
     "output_type": "stream",
     "text": [
      "39.00+0.00j ± 0.89 [σ²=756.32]\n",
      "Mean                  : (39.00067593045157+8.219211403229566e-06j)\n",
      "Error                 : 0.8863989723200362\n",
      "Variance              : 756.3173455745576\n",
      "Convergence indicator : nan\n",
      "Correlation time      : 0.01942689317348323\n"
     ]
    },
    {
     "name": "stderr",
     "output_type": "stream",
     "text": [
      " 62%|██████▏   | 31/50 [00:55<00:31,  1.64s/it]"
     ]
    },
    {
     "name": "stdout",
     "output_type": "stream",
     "text": [
      "31.74+0.00j ± 0.35 [σ²=146.58]\n",
      "Mean                  : (31.744004274003842+4.979221403118572e-06j)\n",
      "Error                 : 0.3483149315332756\n",
      "Variance              : 146.58148844101697\n",
      "Convergence indicator : nan\n",
      "Correlation time      : 0.0\n"
     ]
    },
    {
     "name": "stderr",
     "output_type": "stream",
     "text": [
      " 82%|████████▏ | 41/50 [01:14<00:17,  1.95s/it]"
     ]
    },
    {
     "name": "stdout",
     "output_type": "stream",
     "text": [
      "29.96+0.00j ± 0.19 [σ²=29.54]\n",
      "Mean                  : (29.96230938724676+4.753003804580659e-06j)\n",
      "Error                 : 0.18772295514037415\n",
      "Variance              : 29.544690448153148\n",
      "Convergence indicator : nan\n",
      "Correlation time      : 0.09638309544105894\n"
     ]
    },
    {
     "name": "stderr",
     "output_type": "stream",
     "text": [
      "100%|██████████| 50/50 [01:29<00:00,  1.79s/it]\n"
     ]
    },
    {
     "data": {
      "image/png": "[encoded data removed]",
      "text/plain": [
       "<Figure size 640x480 with 1 Axes>"
      ]
     },
     "metadata": {},
     "output_type": "display_data"
    },
    {
     "name": "stderr",
     "output_type": "stream",
     "text": [
      "  2%|▏         | 1/50 [00:02<01:44,  2.14s/it]"
     ]
    },
    {
     "name": "stdout",
     "output_type": "stream",
     "text": [
      "295.1-0.0j ± 7.5 [σ²=51635.3]\n",
      "Mean                  : (295.0576160314976-0.0002916771821492149j)\n",
      "Error                 : 7.545428277772777\n",
      "Variance              : 51635.296782564\n",
      "Convergence indicator : nan\n",
      "Correlation time      : 0.05130396688489769\n"
     ]
    },
    {
     "name": "stderr",
     "output_type": "stream",
     "text": [
      " 22%|██▏       | 11/50 [00:19<01:10,  1.80s/it]"
     ]
    },
    {
     "name": "stdout",
     "output_type": "stream",
     "text": [
      "49.5+0.0j ± 2.3 [σ²=3724.8]\n",
      "Mean                  : (49.46241705556156+0.0001087039190606447j)\n",
      "Error                 : 2.2775113931472513\n",
      "Variance              : 3724.831037315395\n",
      "Convergence indicator : nan\n",
      "Correlation time      : 0.19628099824549539\n"
     ]
    },
    {
     "name": "stderr",
     "output_type": "stream",
     "text": [
      " 42%|████▏     | 21/50 [00:37<00:52,  1.80s/it]"
     ]
    },
    {
     "name": "stdout",
     "output_type": "stream",
     "text": [
      "13.14+0.00j ± 0.65 [σ²=390.65]\n",
      "Mean                  : (13.138620201938831+2.36637354546474e-05j)\n",
      "Error                 : 0.6460365476455332\n",
      "Variance              : 390.6458365822083\n",
      "Convergence indicator : nan\n",
      "Correlation time      : 0.03419642782488552\n"
     ]
    },
    {
     "name": "stderr",
     "output_type": "stream",
     "text": [
      " 62%|██████▏   | 31/50 [00:54<00:32,  1.72s/it]"
     ]
    },
    {
     "name": "stdout",
     "output_type": "stream",
     "text": [
      "8.54+0.00j ± 0.29 [σ²=84.08]\n",
      "Mean                  : (8.536488062121105+1.588647594326176e-05j)\n",
      "Error                 : 0.29040693081776686\n",
      "Variance              : 84.08497900099049\n",
      "Convergence indicator : nan\n",
      "Correlation time      : 0.0014937654084553609\n"
     ]
    },
    {
     "name": "stderr",
     "output_type": "stream",
     "text": [
      " 82%|████████▏ | 41/50 [01:11<00:14,  1.63s/it]"
     ]
    },
    {
     "name": "stdout",
     "output_type": "stream",
     "text": [
      "8.18+0.00j ± 0.51 [σ²=278.98]\n",
      "Mean                  : (8.179313791449717+9.582010793565132e-06j)\n",
      "Error                 : 0.5053031872824313\n",
      "Variance              : 278.9793185216831\n",
      "Convergence indicator : nan\n",
      "Correlation time      : 0.0\n"
     ]
    },
    {
     "name": "stderr",
     "output_type": "stream",
     "text": [
      "100%|██████████| 50/50 [01:26<00:00,  1.74s/it]\n"
     ]
    },
    {
     "data": {
      "image/png": "[encoded data removed]",
      "text/plain": [
       "<Figure size 640x480 with 1 Axes>"
      ]
     },
     "metadata": {},
     "output_type": "display_data"
    },
    {
     "name": "stderr",
     "output_type": "stream",
     "text": [
      "  2%|▏         | 1/50 [00:02<01:51,  2.27s/it]"
     ]
    },
    {
     "name": "stdout",
     "output_type": "stream",
     "text": [
      "268.1+0.0j ± 7.4 [σ²=51580.8]\n",
      "Mean                  : (268.0713617092371+0.00019323469048322295j)\n",
      "Error                 : 7.3707531927503025\n",
      "Variance              : 51580.798076544954\n",
      "Convergence indicator : nan\n",
      "Correlation time      : 0.026630109016702486\n"
     ]
    },
    {
     "name": "stderr",
     "output_type": "stream",
     "text": [
      " 22%|██▏       | 11/50 [00:19<01:07,  1.73s/it]"
     ]
    },
    {
     "name": "stdout",
     "output_type": "stream",
     "text": [
      "16.5+0.0j ± 1.6 [σ²=2996.9]\n",
      "Mean                  : (16.525183854569796+7.10211616187735e-05j)\n",
      "Error                 : 1.647076968391947\n",
      "Variance              : 2996.931819075252\n",
      "Convergence indicator : nan\n",
      "Correlation time      : 0.0\n"
     ]
    },
    {
     "name": "stderr",
     "output_type": "stream",
     "text": [
      " 42%|████▏     | 21/50 [00:36<00:49,  1.70s/it]"
     ]
    },
    {
     "name": "stdout",
     "output_type": "stream",
     "text": [
      "-10.66+0.00j ± 0.57 [σ²=294.41]\n",
      "Mean                  : (-10.656248452193614+1.1626293449808148e-05j)\n",
      "Error                 : 0.5676471531552133\n",
      "Variance              : 294.4130955527235\n",
      "Convergence indicator : nan\n",
      "Correlation time      : 0.04722988778791337\n"
     ]
    },
    {
     "name": "stderr",
     "output_type": "stream",
     "text": [
      " 62%|██████▏   | 31/50 [00:53<00:31,  1.67s/it]"
     ]
    },
    {
     "name": "stdout",
     "output_type": "stream",
     "text": [
      "-14.26+0.00j ± 0.24 [σ²=59.97]\n",
      "Mean                  : (-14.26015404068827+8.540844221897716e-06j)\n",
      "Error                 : 0.24440341413571048\n",
      "Variance              : 59.96978295775442\n",
      "Convergence indicator : nan\n",
      "Correlation time      : 0.0\n"
     ]
    },
    {
     "name": "stderr",
     "output_type": "stream",
     "text": [
      " 82%|████████▏ | 41/50 [01:10<00:15,  1.69s/it]"
     ]
    },
    {
     "name": "stdout",
     "output_type": "stream",
     "text": [
      "-14.938+0.000j ± 0.062 [σ²=3.840]\n",
      "Mean                  : (-14.938132683592514+7.294249493952522e-06j)\n",
      "Error                 : 0.0615142275017555\n",
      "Variance              : 3.839973842404327\n",
      "Convergence indicator : nan\n",
      "Correlation time      : 0.0\n"
     ]
    },
    {
     "name": "stderr",
     "output_type": "stream",
     "text": [
      "100%|██████████| 50/50 [01:27<00:00,  1.74s/it]\n"
     ]
    },
    {
     "data": {
      "image/png": "[encoded data removed]",
      "text/plain": [
       "<Figure size 640x480 with 1 Axes>"
      ]
     },
     "metadata": {},
     "output_type": "display_data"
    },
    {
     "data": {
      "text/plain": [
       "<Figure size 640x480 with 0 Axes>"
      ]
     },
     "metadata": {},
     "output_type": "display_data"
    }
   ],
   "source": [
    "mu_vals = np.linspace(-10,0,10)\n",
    "vstate_l = []\n",
    "e_hist_l = []\n",
    "for m in mu_vals:\n",
    "    v,e = optimize_vstate(m, t=1, n_steps=50, ed_compute=False)\n",
    "    vstate_l.append(v)\n",
    "    e_hist_l.append(e)\n",
    "    plt.plot(e)\n",
    "    plt.show()\n",
    "    plt.clf()"
   ]
  },
  {
   "cell_type": "markdown",
   "metadata": {},
   "source": [
    "### We will compute the behavior of the electric flux $\\varepsilon = \\sum_x \\frac{\\langle S_{x,x+1}^{(z)}\\rangle}{N}$, here referring to the spin 1/2 formulation. In the spin 1 formulation, we have something like : $\\varepsilon = \\sum_x \\frac{\\langle S_{x}^{(z)} - (S_{x}^z)^2\\rangle}{2N}$ up to a constant."
   ]
  },
  {
   "cell_type": "code",
   "execution_count": null,
   "metadata": {},
   "outputs": [],
   "source": [
    "eps = np.sum([(sigmaz(spin_1_hilbert,n)*(1/2)+1-sigmaz(spin_1_hilbert,n)*sigmaz(spin_1_hilbert,n)*(1/4))*(1/2*N) for n in range(N)])"
   ]
  },
  {
   "cell_type": "code",
   "execution_count": null,
   "metadata": {},
   "outputs": [],
   "source": [
    "eps = np.sum([(-1)**n*(-sigmaz(spin_1_hilbert,n)*(1/2)+1-sigmaz(spin_1_hilbert,n)*sigmaz(spin_1_hilbert,n)*(1/4))*(1/2*N) for n in range(N)])"
   ]
  },
  {
   "cell_type": "code",
   "execution_count": null,
   "metadata": {},
   "outputs": [
    {
     "data": {
      "text/plain": [
       "Text(0.5, 1.0, 'Phase transition of the system for t=1 ')"
      ]
     },
     "execution_count": 70,
     "metadata": {},
     "output_type": "execute_result"
    },
    {
     "data": {
      "image/png": "[encoded data removed]",
      "text/plain": [
       "<Figure size 640x480 with 1 Axes>"
      ]
     },
     "metadata": {},
     "output_type": "display_data"
    }
   ],
   "source": [
    "plt.plot(mu_vals,[vstate_l[i].expect(eps).mean for i in range(len(vstate_l))])\n",
    "plt.xlabel(r\"$m$\")\n",
    "plt.ylabel(r\"$\\varepsilon$\")\n",
    "plt.title(\"Phase transition of the system for t=1 \")"
   ]
  },
  {
   "cell_type": "code",
   "execution_count": null,
   "metadata": {},
   "outputs": [],
   "source": [
    "mu_vals = np.linspace(-10,0,10)\n",
    "vstate_l = []\n",
    "e_hist_l = []\n",
    "for m in mu_vals:\n",
    "    v,e = optimize_vstate(m, t=20, n_steps=50, ed_compute=False)\n",
    "    vstate_l.append(v)\n",
    "    e_hist_l.append(e)\n",
    "    plt.plot(e)\n",
    "    plt.show()\n",
    "    plt.clf()"
   ]
  }
 ],
 "metadata": {
  "kernelspec": {
   "display_name": "pt_env",
   "language": "python",
   "name": "python3"
  },
  "language_info": {
   "codemirror_mode": {
    "name": "ipython",
    "version": 3
   },
   "file_extension": ".py",
   "mimetype": "text/x-python",
   "name": "python",
   "nbconvert_exporter": "python",
   "pygments_lexer": "ipython3",
   "version": "3.11.5"
  }
 },
 "nbformat": 4,
 "nbformat_minor": 2
}
