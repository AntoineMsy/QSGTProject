{
 "cells": [
  {
   "cell_type": "code",
   "execution_count": 68,
   "metadata": {},
   "outputs": [],
   "source": [
    "import netket as nk\n",
    "import netket.experimental as nkx\n",
    "from netket.operator.spin import sigmax,sigmaz, identity, sigmam, sigmap\n",
    "from netket.experimental.operator.fermion import destroy as c\n",
    "from netket.experimental.operator.fermion import create as cdag\n",
    "from netket.experimental.operator.fermion import number as nc\n",
    "import jax\n",
    "from netket.graph import Graph, Chain\n",
    "from netket.operator._local_operator import LocalOperator\n",
    "from netket.operator import AbstractSuperOperator\n",
    "import numpy as np"
   ]
  },
  {
   "cell_type": "code",
   "execution_count": 69,
   "metadata": {},
   "outputs": [],
   "source": [
    "N = 4"
   ]
  },
  {
   "cell_type": "code",
   "execution_count": 70,
   "metadata": {},
   "outputs": [],
   "source": [
    "# Copyright 2021 The NetKet Authors - All rights reserved.\n",
    "#\n",
    "# Licensed under the Apache License, Version 2.0 (the \"License\");\n",
    "# you may not use this file except in compliance with the License.\n",
    "# You may obtain a copy of the License at\n",
    "#\n",
    "#    http://www.apache.org/licenses/LICENSE-2.0\n",
    "#\n",
    "# Unless required by applicable law or agreed to in writing, software\n",
    "# distributed under the License is distributed on an \"AS IS\" BASIS,\n",
    "# WITHOUT WARRANTIES OR CONDITIONS OF ANY KIND, either express or implied.\n",
    "# See the License for the specific language governing permissions and\n",
    "# limitations under the License.\n",
    "\n",
    "from typing import Any\n",
    "import warnings\n",
    "\n",
    "import igraph as ig\n",
    "from flax import linen as nn\n",
    "import jax\n",
    "from jax import numpy as jnp\n",
    "import numpy as np\n",
    "from jax.nn.initializers import normal\n",
    "\n",
    "from netket.utils import deprecate_dtype\n",
    "from netket.graph import AbstractGraph, Chain\n",
    "from netket.hilbert import AbstractHilbert\n",
    "from netket.utils.types import NNInitFunc\n",
    "\n",
    "\n",
    "@deprecate_dtype\n",
    "class MPSMod(nn.Module):\n",
    "    r\"\"\"\n",
    "    A periodic Matrix Product State (MPS) for a quantum state of discrete\n",
    "    degrees of freedom, wrapped as Jax machine.\n",
    "\n",
    "    The MPS is defined as\n",
    "\n",
    "    .. math:: \\Psi(s_1,\\dots s_N) = \\mathrm{Tr} \\left[ A[s_1]\\dots A[s_N] \\right] ,\n",
    "\n",
    "    for arbitrary local quantum numbers :math:`s_i`, where :math:`A[s_1]` is a matrix\n",
    "    of dimension (bdim,bdim), depending on the value of the local quantum number :math:`s_i`.\n",
    "    \"\"\"\n",
    "\n",
    "    hilbert: AbstractHilbert\n",
    "    \"\"\"Hilbert space on which the state is defined.\"\"\"\n",
    "    graph: AbstractGraph\n",
    "    \"\"\"The graph on which the system is defined.\"\"\"\n",
    "    bond_dim: int\n",
    "    \"\"\"Virtual dimension of the MPS tensors.\"\"\"\n",
    "    diag: bool = False\n",
    "    \"\"\"Whether or not to use diagonal matrices in the MPS tensors.\"\"\"\n",
    "    symperiod: bool = None\n",
    "    \"\"\"\n",
    "    Periodicity in the chain of MPS tensors.\n",
    "\n",
    "    The chain of MPS tensors is constructed as a sequence of identical\n",
    "    unit cells consisting of symperiod tensors. if None, symperiod equals the\n",
    "    number of physical degrees of freedom.\n",
    "    \"\"\"\n",
    "    kernel_init: NNInitFunc = normal(\n",
    "        stddev=0.01\n",
    "    )  # default standard deviation equals 1e-2\n",
    "    \"\"\"the initializer for the MPS weights.\"\"\"\n",
    "    param_dtype: Any = np.complex64\n",
    "    \"\"\"complex or float, whether the variational parameters of the MPS are real or complex.\"\"\"\n",
    "\n",
    "    def setup(self):\n",
    "        L = self.hilbert.size\n",
    "        phys_dim = self.hilbert.local_size\n",
    "\n",
    "        self._L = L\n",
    "        self._phys_dim = phys_dim\n",
    "\n",
    "        # determine transformation from local states to indices\n",
    "        local_states = np.array(self.hilbert.local_states)\n",
    "        loc_vals_spacing = np.roll(local_states, -1)[0:-1] - local_states[0:-1]\n",
    "        if np.max(loc_vals_spacing) == np.min(loc_vals_spacing):\n",
    "            self._loc_vals_spacing = jnp.array(loc_vals_spacing[0])\n",
    "        else:\n",
    "            raise AssertionError(\n",
    "                \"JaxMpsPeriodic can only be used with evenly spaced hilbert local values\"\n",
    "            )\n",
    "        self._loc_vals_bias = jnp.min(local_states)\n",
    "\n",
    "        # check whether graph is periodic chain\n",
    "        chain_graph = Chain(self.graph.n_edges).to_igraph()\n",
    "        if not ig.Graph(edges=self.graph.edges()).isomorphic(chain_graph):\n",
    "            warnings.warn(\n",
    "                \"Warning: graph is not isomorphic to chain with periodic boundary conditions\",\n",
    "                UserWarning,\n",
    "            )\n",
    "\n",
    "        # determine shape of unit cell\n",
    "        if self.symperiod is None:\n",
    "            self._symperiod = L\n",
    "        else:\n",
    "            self._symperiod = self.symperiod\n",
    "\n",
    "        if L % self._symperiod == 0 and self._symperiod > 0:\n",
    "            if self.diag:\n",
    "                unit_cell_shape = (self._symperiod, phys_dim, self.bond_dim)\n",
    "            else:\n",
    "                unit_cell_shape = (\n",
    "                    self._symperiod,\n",
    "                    phys_dim,\n",
    "                    self.bond_dim,\n",
    "                    self.bond_dim,\n",
    "                )\n",
    "        else:\n",
    "            raise AssertionError(\n",
    "                \"The number of degrees of freedom of the Hilbert space needs to be a multiple of the period of the MPS\"\n",
    "            )\n",
    "\n",
    "        # define diagonal tensors with correct unit cell shape\n",
    "        if self.diag:\n",
    "            iden_tensors = jnp.ones(\n",
    "                (self._symperiod, phys_dim, self.bond_dim), dtype=self.param_dtype\n",
    "            )\n",
    "        else:\n",
    "            iden_tensors = jnp.repeat(\n",
    "                jnp.eye(self.bond_dim, dtype=self.param_dtype)[jnp.newaxis, :, :],\n",
    "                self._symperiod * phys_dim,\n",
    "                axis=0,\n",
    "            )\n",
    "            iden_tensors = iden_tensors.reshape(\n",
    "                self._symperiod, phys_dim, self.bond_dim, self.bond_dim\n",
    "            )\n",
    "\n",
    "        self.kernel = (\n",
    "            self.param(\"kernel\", self.kernel_init, unit_cell_shape, self.param_dtype)\n",
    "            + iden_tensors\n",
    "        )\n",
    "\n",
    "        ## Gaussian sector part \n",
    "        self.phys_A = jnp.array([[[0,0],[1,0]],[[0,1],[0,0]],[[1,0],[0,0]]])\n",
    "\n",
    "    @nn.compact\n",
    "    def __call__(self, x):\n",
    "        \n",
    "        # expand diagonal to square matrices if diagonal mps\n",
    "        if self.diag:\n",
    "            params = jnp.einsum(\n",
    "                \"ijk,kl->ijkl\", self.kernel, jnp.eye(self.kernel.shape[-1])\n",
    "            )\n",
    "        else:\n",
    "            params = self.kernel\n",
    "        \n",
    "        # create all tensors in mps from unit cell\n",
    "        all_tensors = jnp.tile(params, (self._L // self._symperiod, 1, 1, 1))\n",
    "        all_phystensors = jnp.tile(self.phys_A, (self._L, 1, 1, 1))\n",
    "        # transform input to indices\n",
    "        x = (x - self._loc_vals_bias) / self._loc_vals_spacing\n",
    "        if len(x.shape) == 1:  # batch size is one\n",
    "            x = jnp.expand_dims(x, 0)\n",
    "\n",
    "        def select_tensor(tensor, index):\n",
    "            return tensor[index.astype(int)]\n",
    "\n",
    "        def select_all_tensors(all_tensors, indices):\n",
    "            return jax.vmap(select_tensor)(all_tensors, indices)\n",
    "\n",
    "        # select right tensors using input for matrix multiplication\n",
    "        selected_tensors = jax.vmap(select_all_tensors, (None, 0))(all_tensors, x)\n",
    "        sel_phys_tensors = jax.vmap(select_all_tensors, (None, 0))(all_phystensors, x)\n",
    "\n",
    "        # create loop carry, in this case a unit matrix\n",
    "        edges = jnp.repeat(\n",
    "            jnp.eye(self.bond_dim, dtype=selected_tensors.dtype)[jnp.newaxis, :, :],\n",
    "            selected_tensors.shape[0],\n",
    "            axis=0,\n",
    "        )\n",
    "        edges_phys = jnp.repeat(\n",
    "            jnp.eye(2, dtype=sel_phys_tensors.dtype)[jnp.newaxis, :, :],\n",
    "            sel_phys_tensors.shape[0],\n",
    "            axis=0,\n",
    "        )\n",
    "\n",
    "        def trace_mps(tensors, edge):\n",
    "            def multiply_tensors(left_tensor, right_tensor):\n",
    "                return jnp.einsum(\"ij,jk->ik\", left_tensor, right_tensor), None\n",
    "\n",
    "            edge, _ = jax.lax.scan(multiply_tensors, edge, tensors)\n",
    "            \n",
    "            return jnp.trace(edge)\n",
    "        \n",
    "        def sum_coeff(tensors, edge,):\n",
    "            def multiply_tensors(left_tensor, right_tensor):\n",
    "                return jnp.einsum(\"ij,jk->ik\", left_tensor, right_tensor), None\n",
    "\n",
    "            edge, _ = jax.lax.scan(multiply_tensors, edge, tensors)\n",
    "            return jnp.trace(jnp.einsum(\"ij,jk->ik\", edge, edge.transpose()))\n",
    "        \n",
    "        # trace the matrix multiplication\n",
    "        return jnp.log(1+jax.vmap(trace_mps)(selected_tensors, edges)*jax.vmap(sum_coeff)(sel_phys_tensors, edges_phys))"
   ]
  },
  {
   "cell_type": "code",
   "execution_count": 71,
   "metadata": {},
   "outputs": [],
   "source": [
    "site_hilbert = nkx.hilbert.SpinOrbitalFermions(N,s=None)\n",
    "link_hilbert = nkx.hilbert.SpinOrbitalFermions(N, s=None)"
   ]
  },
  {
   "cell_type": "code",
   "execution_count": 72,
   "metadata": {},
   "outputs": [],
   "source": [
    "tot_hi = site_hilbert*link_hilbert\n",
    "# tot_hi = nkx.hilbert.SpinOrbitalFermions(N,s=0.5)"
   ]
  },
  {
   "cell_type": "code",
   "execution_count": 73,
   "metadata": {},
   "outputs": [],
   "source": [
    "class prod_op(AbstractSuperOperator):\n",
    "    __module__ = \"netket.operator\"\n",
    "    def __init__(self, hilbert, f_op, s_op, dtype = None):\n",
    "        super.__init__(hilbert)\n",
    "        self.a = 0\n",
    "        self._dtype = dtype\n",
    "        \n",
    "    @property\n",
    "    def dtype(self):\n",
    "        return self._dtype\n",
    "\n",
    "    @property\n",
    "    def is_hermitian(self):\n",
    "        return False\n",
    "    \n",
    "    \n"
   ]
  },
  {
   "cell_type": "code",
   "execution_count": 74,
   "metadata": {},
   "outputs": [],
   "source": [
    "ch = Chain(N)"
   ]
  },
  {
   "cell_type": "markdown",
   "metadata": {},
   "source": [
    "### We first print various properties of our Hilbert Space and define the QLM spin 1 equivalent Hamiltonian\n",
    "$$H = -\\frac{t}{2}\\sum_i(S_i^+ S_{i+1}^-P_i^{(0)}P_{i+1}^{(0)}+ S_i^- S_{i+1}^+ P_i^{(1)} P_{i+1}^{(-1)}) -m\\sum_i(S_i^z)^2$$"
   ]
  },
  {
   "cell_type": "code",
   "execution_count": 96,
   "metadata": {},
   "outputs": [
    {
     "data": {
      "text/plain": [
       "{'_hilbert_spaces': (SpinOrbitalFermions(n_orbitals=4),\n",
       "  SpinOrbitalFermions(n_orbitals=4)),\n",
       " '_n_hilbert_spaces': 2,\n",
       " '_hilbert_i': array([0, 0, 0, 0, 1, 1, 1, 1]),\n",
       " '_sizes': (4, 4),\n",
       " '_cum_sizes': array([4, 8]),\n",
       " '_cum_indices': array([0, 4, 8]),\n",
       " '_size': 8,\n",
       " '_delta_indices_i': array([0, 0, 0, 0, 4, 4, 4, 4]),\n",
       " '_shape': (2, 2, 2, 2, 2, 2, 2, 2),\n",
       " '_hash': -4001755271268968178,\n",
       " '_ns_states': [16, 16],\n",
       " '_ns_states_r': array([16, 16]),\n",
       " '_cum_ns_states': array([  0,  16, 256]),\n",
       " '_cum_ns_states_r': array([16,  1]),\n",
       " '_n_states': 256}"
      ]
     },
     "execution_count": 96,
     "metadata": {},
     "output_type": "execute_result"
    }
   ],
   "source": [
    "vars(tot_hi)"
   ]
  },
  {
   "cell_type": "code",
   "execution_count": 76,
   "metadata": {},
   "outputs": [
    {
     "data": {
      "text/plain": [
       "LocalOperator(dim=8, acting_on=[], constant=1.0, dtype=float64)"
      ]
     },
     "execution_count": 76,
     "metadata": {},
     "output_type": "execute_result"
    }
   ],
   "source": [
    "identity(tot_hi)"
   ]
  },
  {
   "cell_type": "code",
   "execution_count": 77,
   "metadata": {},
   "outputs": [
    {
     "data": {
      "text/plain": [
       "array([[0., 0., 0., ..., 0., 0., 0.],\n",
       "       [0., 0., 0., ..., 0., 0., 1.],\n",
       "       [0., 0., 0., ..., 0., 1., 0.],\n",
       "       ...,\n",
       "       [1., 1., 1., ..., 1., 0., 1.],\n",
       "       [1., 1., 1., ..., 1., 1., 0.],\n",
       "       [1., 1., 1., ..., 1., 1., 1.]])"
      ]
     },
     "execution_count": 77,
     "metadata": {},
     "output_type": "execute_result"
    }
   ],
   "source": [
    "tot_hi.all_states()"
   ]
  },
  {
   "cell_type": "code",
   "execution_count": 91,
   "metadata": {},
   "outputs": [],
   "source": [
    "def exp_op(op, max_range = 5):\n",
    "    return np.sum([np.prod([op for i in range(n)])*(1/np.math.factorial(n)) for n in range(max_range)])"
   ]
  },
  {
   "cell_type": "markdown",
   "metadata": {},
   "source": [
    "To satisfy for netket's problem of not being able to multiply fermionic operators and spin operators, we use the Jordan-Wigner transformation to describe spins with fermions"
   ]
  },
  {
   "cell_type": "code",
   "execution_count": 92,
   "metadata": {},
   "outputs": [],
   "source": [
    "mu = 1\n",
    "eps = 1\n",
    "H = 0\n",
    "S0 = 2\n",
    "fs_c = [cdag(link_hilbert,i) for i in range(N)]\n",
    "fs_d = [c(link_hilbert,i) for i in range(N)]\n",
    "fs_n = [nc(link_hilbert,i) for i in range(N)]\n",
    "exponents = [1j*np.pi*np.sum([fs_n[k] for k in range(0,i)]) for i in range(N)]\n",
    "gauge_ops = [exp_op(-exponents[i])*fs_c[i] for i in range(N)]\n",
    "sig_z_ops = [2*fs_n[i] -1 for i in range(N)]\n",
    "f_create_ops = [cdag(site_hilbert,i) for i in range(N)]\n",
    "f_destroy_ops = [c(site_hilbert,i) for i in range(N)]\n",
    "f_num_ops = [nc(site_hilbert,i) for i in range(N)]\n",
    "for i in range(N):\n",
    "    H += mu*(-1)**i*f_num_ops[i]\n",
    "    H -= eps*f_create_ops[i]*gauge_ops[i]*f_destroy_ops[(i+1)%N]\n",
    "    H += sig_z_ops[i] - (-1)**i*S0\n",
    "H += H.transpose().conjugate()"
   ]
  },
  {
   "cell_type": "code",
   "execution_count": 93,
   "metadata": {},
   "outputs": [
    {
     "data": {
      "text/plain": [
       "True"
      ]
     },
     "execution_count": 93,
     "metadata": {},
     "output_type": "execute_result"
    }
   ],
   "source": [
    "H.is_hermitian"
   ]
  },
  {
   "cell_type": "code",
   "execution_count": 90,
   "metadata": {},
   "outputs": [
    {
     "data": {
      "text/plain": [
       "FermionOperator2nd(hilbert=SpinOrbitalFermions(n_orbitals=4), n_operators=434, dtype=complex128)"
      ]
     },
     "execution_count": 90,
     "metadata": {},
     "output_type": "execute_result"
    }
   ],
   "source": [
    "H"
   ]
  },
  {
   "cell_type": "code",
   "execution_count": 94,
   "metadata": {},
   "outputs": [
    {
     "ename": "AttributeError",
     "evalue": "'TensorDiscreteHilbert' object has no attribute 'local_size'",
     "output_type": "error",
     "traceback": [
      "\u001b[1;31m---------------------------------------------------------------------------\u001b[0m",
      "\u001b[1;31mAttributeError\u001b[0m                            Traceback (most recent call last)",
      "\u001b[1;32mc:\\Users\\antoi\\Documents\\ETH\\CoursesETH\\QSGT\\project\\qlm_test.ipynb Cell 17\u001b[0m line \u001b[0;36m1\n\u001b[1;32m----> <a href='vscode-notebook-cell:/c%3A/Users/antoi/Documents/ETH/CoursesETH/QSGT/project/qlm_test.ipynb#X23sZmlsZQ%3D%3D?line=0'>1</a>\u001b[0m vstate  \u001b[39m=\u001b[39m nk\u001b[39m.\u001b[39;49mvqs\u001b[39m.\u001b[39;49mMCState(nk\u001b[39m.\u001b[39;49msampler\u001b[39m.\u001b[39;49mMetropolisLocal(tot_hi), MPSMod(tot_hi,ch, bond_dim\u001b[39m=\u001b[39;49m\u001b[39m10\u001b[39;49m))\n",
      "File \u001b[1;32mc:\\Users\\antoi\\anaconda3\\envs\\netket_env\\Lib\\site-packages\\netket\\vqs\\mc\\mc_state\\state.py:249\u001b[0m, in \u001b[0;36mMCState.__init__\u001b[1;34m(self, sampler, model, n_samples, n_samples_per_rank, n_discard_per_chain, chunk_size, variables, init_fun, apply_fun, sample_fun, seed, sampler_seed, mutable, training_kwargs)\u001b[0m\n\u001b[0;32m    247\u001b[0m     \u001b[39mself\u001b[39m\u001b[39m.\u001b[39mvariables \u001b[39m=\u001b[39m variables\n\u001b[0;32m    248\u001b[0m \u001b[39melse\u001b[39;00m:\n\u001b[1;32m--> 249\u001b[0m     \u001b[39mself\u001b[39;49m\u001b[39m.\u001b[39;49minit(seed, dtype\u001b[39m=\u001b[39;49msampler\u001b[39m.\u001b[39;49mdtype)\n\u001b[0;32m    251\u001b[0m \u001b[39mif\u001b[39;00m sampler_seed \u001b[39mis\u001b[39;00m \u001b[39mNone\u001b[39;00m \u001b[39mand\u001b[39;00m seed \u001b[39mis\u001b[39;00m \u001b[39mnot\u001b[39;00m \u001b[39mNone\u001b[39;00m:\n\u001b[0;32m    252\u001b[0m     key, key2 \u001b[39m=\u001b[39m jax\u001b[39m.\u001b[39mrandom\u001b[39m.\u001b[39msplit(nkjax\u001b[39m.\u001b[39mPRNGKey(seed), \u001b[39m2\u001b[39m)\n",
      "File \u001b[1;32mc:\\Users\\antoi\\anaconda3\\envs\\netket_env\\Lib\\site-packages\\netket\\vqs\\mc\\mc_state\\state.py:284\u001b[0m, in \u001b[0;36mMCState.init\u001b[1;34m(self, seed, dtype)\u001b[0m\n\u001b[0;32m    280\u001b[0m key \u001b[39m=\u001b[39m nkjax\u001b[39m.\u001b[39mPRNGKey(seed)\n\u001b[0;32m    282\u001b[0m dummy_input \u001b[39m=\u001b[39m jnp\u001b[39m.\u001b[39mzeros((\u001b[39m1\u001b[39m, \u001b[39mself\u001b[39m\u001b[39m.\u001b[39mhilbert\u001b[39m.\u001b[39msize), dtype\u001b[39m=\u001b[39mdtype)\n\u001b[1;32m--> 284\u001b[0m variables \u001b[39m=\u001b[39m jit_evaluate(\u001b[39mself\u001b[39;49m\u001b[39m.\u001b[39;49m_init_fun, {\u001b[39m\"\u001b[39;49m\u001b[39mparams\u001b[39;49m\u001b[39m\"\u001b[39;49m: key}, dummy_input)\n\u001b[0;32m    285\u001b[0m \u001b[39mself\u001b[39m\u001b[39m.\u001b[39mvariables \u001b[39m=\u001b[39m variables\n",
      "    \u001b[1;31m[... skipping hidden 12 frame]\u001b[0m\n",
      "File \u001b[1;32mc:\\Users\\antoi\\anaconda3\\envs\\netket_env\\Lib\\site-packages\\netket\\vqs\\mc\\mc_state\\state.py:95\u001b[0m, in \u001b[0;36mjit_evaluate\u001b[1;34m(fun, *args)\u001b[0m\n\u001b[0;32m     86\u001b[0m \u001b[39m@partial\u001b[39m(jax\u001b[39m.\u001b[39mjit, static_argnums\u001b[39m=\u001b[39m\u001b[39m0\u001b[39m)\n\u001b[0;32m     87\u001b[0m \u001b[39mdef\u001b[39;00m \u001b[39mjit_evaluate\u001b[39m(fun: Callable, \u001b[39m*\u001b[39margs):\n\u001b[0;32m     88\u001b[0m \u001b[39m    \u001b[39m\u001b[39m\"\"\"\u001b[39;00m\n\u001b[0;32m     89\u001b[0m \u001b[39m    call `fun(*args)` inside of a `jax.jit` frame.\u001b[39;00m\n\u001b[0;32m     90\u001b[0m \n\u001b[1;32m   (...)\u001b[0m\n\u001b[0;32m     93\u001b[0m \u001b[39m        args: the arguments to the function.\u001b[39;00m\n\u001b[0;32m     94\u001b[0m \u001b[39m    \"\"\"\u001b[39;00m\n\u001b[1;32m---> 95\u001b[0m     \u001b[39mreturn\u001b[39;00m fun(\u001b[39m*\u001b[39;49margs)\n",
      "File \u001b[1;32mc:\\Users\\antoi\\anaconda3\\envs\\netket_env\\Lib\\site-packages\\netket\\vqs\\mc\\mc_state\\state.py:200\u001b[0m, in \u001b[0;36mMCState.__init__.<locals>.<lambda>\u001b[1;34m(model, *args, **kwargs)\u001b[0m\n\u001b[0;32m    195\u001b[0m     _, model \u001b[39m=\u001b[39m maybe_wrap_module(model)\n\u001b[0;32m    197\u001b[0m     \u001b[39mself\u001b[39m\u001b[39m.\u001b[39m_model \u001b[39m=\u001b[39m model\n\u001b[0;32m    199\u001b[0m     \u001b[39mself\u001b[39m\u001b[39m.\u001b[39m_init_fun \u001b[39m=\u001b[39m nkjax\u001b[39m.\u001b[39mHashablePartial(\n\u001b[1;32m--> 200\u001b[0m         \u001b[39mlambda\u001b[39;00m model, \u001b[39m*\u001b[39margs, \u001b[39m*\u001b[39m\u001b[39m*\u001b[39mkwargs: model\u001b[39m.\u001b[39;49minit(\u001b[39m*\u001b[39;49margs, \u001b[39m*\u001b[39;49m\u001b[39m*\u001b[39;49mkwargs), model\n\u001b[0;32m    201\u001b[0m     )\n\u001b[0;32m    202\u001b[0m     \u001b[39mself\u001b[39m\u001b[39m.\u001b[39m_apply_fun \u001b[39m=\u001b[39m wrap_to_support_scalar(\n\u001b[0;32m    203\u001b[0m         nkjax\u001b[39m.\u001b[39mHashablePartial(\n\u001b[0;32m    204\u001b[0m             \u001b[39mlambda\u001b[39;00m model, pars, x, \u001b[39m*\u001b[39m\u001b[39m*\u001b[39mkwargs: model\u001b[39m.\u001b[39mapply(pars, x, \u001b[39m*\u001b[39m\u001b[39m*\u001b[39mkwargs),\n\u001b[0;32m    205\u001b[0m             model,\n\u001b[0;32m    206\u001b[0m         )\n\u001b[0;32m    207\u001b[0m     )\n\u001b[0;32m    209\u001b[0m \u001b[39melif\u001b[39;00m apply_fun \u001b[39mis\u001b[39;00m \u001b[39mnot\u001b[39;00m \u001b[39mNone\u001b[39;00m:\n",
      "    \u001b[1;31m[... skipping hidden 12 frame]\u001b[0m\n",
      "\u001b[1;32mc:\\Users\\antoi\\Documents\\ETH\\CoursesETH\\QSGT\\project\\qlm_test.ipynb Cell 17\u001b[0m line \u001b[0;36m7\n\u001b[0;32m     <a href='vscode-notebook-cell:/c%3A/Users/antoi/Documents/ETH/CoursesETH/QSGT/project/qlm_test.ipynb#X23sZmlsZQ%3D%3D?line=67'>68</a>\u001b[0m \u001b[39mdef\u001b[39;00m \u001b[39msetup\u001b[39m(\u001b[39mself\u001b[39m):\n\u001b[0;32m     <a href='vscode-notebook-cell:/c%3A/Users/antoi/Documents/ETH/CoursesETH/QSGT/project/qlm_test.ipynb#X23sZmlsZQ%3D%3D?line=68'>69</a>\u001b[0m     L \u001b[39m=\u001b[39m \u001b[39mself\u001b[39m\u001b[39m.\u001b[39mhilbert\u001b[39m.\u001b[39msize\n\u001b[1;32m---> <a href='vscode-notebook-cell:/c%3A/Users/antoi/Documents/ETH/CoursesETH/QSGT/project/qlm_test.ipynb#X23sZmlsZQ%3D%3D?line=69'>70</a>\u001b[0m     phys_dim \u001b[39m=\u001b[39m \u001b[39mself\u001b[39;49m\u001b[39m.\u001b[39;49mhilbert\u001b[39m.\u001b[39;49mlocal_size\n\u001b[0;32m     <a href='vscode-notebook-cell:/c%3A/Users/antoi/Documents/ETH/CoursesETH/QSGT/project/qlm_test.ipynb#X23sZmlsZQ%3D%3D?line=71'>72</a>\u001b[0m     \u001b[39mself\u001b[39m\u001b[39m.\u001b[39m_L \u001b[39m=\u001b[39m L\n\u001b[0;32m     <a href='vscode-notebook-cell:/c%3A/Users/antoi/Documents/ETH/CoursesETH/QSGT/project/qlm_test.ipynb#X23sZmlsZQ%3D%3D?line=72'>73</a>\u001b[0m     \u001b[39mself\u001b[39m\u001b[39m.\u001b[39m_phys_dim \u001b[39m=\u001b[39m phys_dim\n",
      "\u001b[1;31mAttributeError\u001b[0m: 'TensorDiscreteHilbert' object has no attribute 'local_size'"
     ]
    }
   ],
   "source": [
    "vstate  = nk.vqs.MCState(nk.sampler.MetropolisLocal(tot_hi), MPSMod(tot_hi,ch, bond_dim=10))"
   ]
  },
  {
   "cell_type": "code",
   "execution_count": null,
   "metadata": {},
   "outputs": [
    {
     "name": "stdout",
     "output_type": "stream",
     "text": [
      "eigenvalues with scipy sparse: [-32.12499623 -32.1240384 ]\n"
     ]
    }
   ],
   "source": [
    "from scipy.sparse.linalg import eigsh\n",
    "\n",
    "eig_vals, eig_vecs = eigsh(H.to_sparse(), k=2, which=\"SA\")\n",
    "\n",
    "print(\"eigenvalues with scipy sparse:\", eig_vals)\n",
    "\n",
    "E_gs = eig_vals[0]"
   ]
  },
  {
   "cell_type": "code",
   "execution_count": null,
   "metadata": {},
   "outputs": [
    {
     "name": "stderr",
     "output_type": "stream",
     "text": [
      "100%|██████████| 200/200 [00:43<00:00,  4.64it/s]\n"
     ]
    }
   ],
   "source": [
    "from tqdm import tqdm\n",
    "\n",
    "energy_history = []\n",
    "n_steps = 200\n",
    "\n",
    "# For every iteration (tqdm is just a progress bar)\n",
    "for i in tqdm(range(n_steps)):\n",
    "    # compute energy and gradient of the energy\n",
    "    E, E_grad = vstate.expect_and_grad(H)\n",
    "    # log the energy to a list\n",
    "    energy_history.append(E.mean.real)\n",
    "    # equivalent to vstate.parameters - 0.05*E_grad , but it performs this\n",
    "    # function on every leaf of the dictionaries containing the set of parameters\n",
    "    new_pars = jax.tree_map(lambda x,y: x-0.05*y, vstate.parameters, E_grad)\n",
    "    # actually update the paramters\n",
    "    vstate.parameters = new_pars"
   ]
  },
  {
   "cell_type": "code",
   "execution_count": null,
   "metadata": {},
   "outputs": [
    {
     "data": {
      "text/plain": [
       "[<matplotlib.lines.Line2D at 0x1e75fbde8d0>]"
      ]
     },
     "execution_count": 19,
     "metadata": {},
     "output_type": "execute_result"
    },
    {
     "data": {
      "image/png": "[encoded data removed]",
      "text/plain": [
       "<Figure size 640x480 with 1 Axes>"
      ]
     },
     "metadata": {},
     "output_type": "display_data"
    }
   ],
   "source": [
    "import matplotlib.pyplot as plt\n",
    "plt.plot(energy_history)"
   ]
  },
  {
   "cell_type": "markdown",
   "metadata": {},
   "source": [
    "### We will compute the behavior of the electric flux $\\varepsilon = \\sum_x \\frac{\\langle S_{x,x+1}^{(z)}\\rangle}{N}$, here referring to the spin 1/2 formulation."
   ]
  }
 ],
 "metadata": {
  "kernelspec": {
   "display_name": "pt_env",
   "language": "python",
   "name": "python3"
  },
  "language_info": {
   "codemirror_mode": {
    "name": "ipython",
    "version": 3
   },
   "file_extension": ".py",
   "mimetype": "text/x-python",
   "name": "python",
   "nbconvert_exporter": "python",
   "pygments_lexer": "ipython3",
   "version": "3.11.5"
  }
 },
 "nbformat": 4,
 "nbformat_minor": 2
}
